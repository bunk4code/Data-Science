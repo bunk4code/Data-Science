{
 "cells": [
  {
   "cell_type": "code",
   "execution_count": null,
   "id": "8130bce6-586e-4bc5-ba9b-de32cdd3affd",
   "metadata": {},
   "outputs": [],
   "source": [
    "import pandas as pd\n",
    "import numpy as np\n",
    "import matplotlib.pyplot as plt\n",
    "import seaborn as sns\n",
    "from sklearn.linear_model import LinearRegression\n",
    "from sklearn.model_selection import train_test_split\n",
    "import warnings\n",
    "warnings.filterwarnings('ignore')\n"
   ]
  },
  {
   "cell_type": "code",
   "execution_count": null,
   "id": "160b513c-0b8b-4d38-b0f6-87a2bfff07cc",
   "metadata": {},
   "outputs": [],
   "source": [
    "bank_data=pd.read_csv(\"Dataset_LR/bank_chunkPrediction\")"
   ]
  },
  {
   "cell_type": "code",
   "execution_count": null,
   "id": "a2571d9f-3dad-4437-ad8f-c970e3964a35",
   "metadata": {},
   "outputs": [],
   "source": [
    "bank_data.shape"
   ]
  },
  {
   "cell_type": "code",
   "execution_count": null,
   "id": "07cf42e1-9591-4241-b18f-b7f2fbd346c7",
   "metadata": {},
   "outputs": [],
   "source": [
    "# Distribution of the target variable 'Exited'\n",
    "sns.countplot(x='Exited', data=bank_data)\n",
    "plt.title('Distribution of Customer Churn')\n",
    "plt.show()"
   ]
  },
  {
   "cell_type": "code",
   "execution_count": null,
   "id": "d398342b-3606-496f-924b-baccd0b2073a",
   "metadata": {},
   "outputs": [],
   "source": [
    "# Correlation matrix\n",
    "corr_matrix = bank_data.corr()\n",
    "\n",
    "# Improve the visualization of the correlation matrix\n",
    "plt.figure(figsize=(15, 12))\n",
    "sns.heatmap(corr_matrix, annot=True, cmap='coolwarm', fmt=\".2f\", linewidths=.5)\n",
    "plt.title('Improved Correlation Matrix')\n",
    "plt.show()"
   ]
  },
  {
   "cell_type": "code",
   "execution_count": null,
   "id": "3c947cfd-89a1-4e5c-bce9-a84e96821d9b",
   "metadata": {},
   "outputs": [],
   "source": [
    "5+6"
   ]
  },
  {
   "cell_type": "code",
   "execution_count": null,
   "id": "89f448d6-c177-4bfd-8cbd-8d42b70e6b33",
   "metadata": {},
   "outputs": [],
   "source": []
  }
 ],
 "metadata": {
  "kernelspec": {
   "display_name": "Python 3 (ipykernel)",
   "language": "python",
   "name": "python3"
  },
  "language_info": {
   "codemirror_mode": {
    "name": "ipython",
    "version": 3
   },
   "file_extension": ".py",
   "mimetype": "text/x-python",
   "name": "python",
   "nbconvert_exporter": "python",
   "pygments_lexer": "ipython3",
   "version": "3.11.5"
  }
 },
 "nbformat": 4,
 "nbformat_minor": 5
}
