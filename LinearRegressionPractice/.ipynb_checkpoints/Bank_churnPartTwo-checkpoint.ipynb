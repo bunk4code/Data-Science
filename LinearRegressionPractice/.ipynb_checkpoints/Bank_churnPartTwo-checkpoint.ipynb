{
 "cells": [
  {
   "cell_type": "code",
   "execution_count": 1,
   "id": "551915e2-423e-44bd-87b3-ddd39cd8b54b",
   "metadata": {},
   "outputs": [],
   "source": [
    "import pandas as pd\n",
    "import numpy as np\n",
    "import matplotlib.pyplot as plt\n",
    "import seaborn as sns\n",
    "from sklearn.linear_model import LinearRegression\n",
    "from sklearn.model_selection import train_test_split\n",
    "import warnings\n",
    "warnings.filterwarnings('ignore')\n",
    "from sklearn.model_selection import train_test_split\n",
    "from sklearn.svm import SVC\n",
    "from sklearn.metrics import accuracy_score, classification_report, confusion_matrix\n"
   ]
  },
  {
   "cell_type": "code",
   "execution_count": 2,
   "id": "f0b5edb2-c1c3-49d8-829d-4310950bc4f8",
   "metadata": {},
   "outputs": [],
   "source": [
    "bank_data=pd.read_csv(\"Dataset_LR/bank_chunkPrediction\")"
   ]
  },
  {
   "cell_type": "code",
   "execution_count": null,
   "id": "5f21d899-8588-43a0-a2a9-af62e05075de",
   "metadata": {},
   "outputs": [],
   "source": []
  },
  {
   "cell_type": "code",
   "execution_count": 3,
   "id": "bd06fb33-28e6-4f07-8823-587f0aba1c5a",
   "metadata": {},
   "outputs": [],
   "source": [
    "# Drop 'Exited' from features to create X and set 'Exited' as the target variable\n",
    "X = bank_data.drop('Exited', axis=1)\n",
    "y = bank_data['Exited']\n",
    "\n",
    "# Split the dataset into training and testing sets\n",
    "X_train, X_test, y_train, y_test = train_test_split(X, y, test_size=0.2, random_state=42)\n"
   ]
  }
 ],
 "metadata": {
  "kernelspec": {
   "display_name": "Python 3 (ipykernel)",
   "language": "python",
   "name": "python3"
  },
  "language_info": {
   "codemirror_mode": {
    "name": "ipython",
    "version": 3
   },
   "file_extension": ".py",
   "mimetype": "text/x-python",
   "name": "python",
   "nbconvert_exporter": "python",
   "pygments_lexer": "ipython3",
   "version": "3.11.5"
  }
 },
 "nbformat": 4,
 "nbformat_minor": 5
}
