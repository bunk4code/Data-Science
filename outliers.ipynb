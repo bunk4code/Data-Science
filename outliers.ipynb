{
 "cells": [
  {
   "cell_type": "markdown",
   "id": "39829132-2f26-43f1-b863-8bcad54de6c7",
   "metadata": {},
   "source": [
    "# What are Outliers"
   ]
  },
  {
   "cell_type": "markdown",
   "id": "80147d80-d314-4546-854b-5107c96bc9d6",
   "metadata": {},
   "source": [
    "##### outliers are the values which are compeletly different from the graph or data"
   ]
  },
  {
   "cell_type": "code",
   "execution_count": 101,
   "id": "ee02f498-0d35-4e94-bb01-f9ef72a0f97f",
   "metadata": {},
   "outputs": [],
   "source": [
    "list_mark = [60,34,45,89,34,78,79,32,100,1200,1100]"
   ]
  },
  {
   "cell_type": "code",
   "execution_count": 77,
   "id": "123ca730-dc95-48e0-a9cf-09c265035cfb",
   "metadata": {},
   "outputs": [],
   "source": [
    "import numpy as np"
   ]
  },
  {
   "cell_type": "code",
   "execution_count": 78,
   "id": "aa22023f-268f-49c3-9ffb-2cba2bbd9132",
   "metadata": {},
   "outputs": [
    {
     "data": {
      "text/plain": [
       "array([32.])"
      ]
     },
     "execution_count": 78,
     "metadata": {},
     "output_type": "execute_result"
    }
   ],
   "source": [
    "np.percentile(list_mark,[0])"
   ]
  },
  {
   "cell_type": "code",
   "execution_count": 79,
   "id": "d9a2a062-d21a-41a8-9a88-67f5516c103b",
   "metadata": {},
   "outputs": [
    {
     "data": {
      "text/plain": [
       "array([39.5])"
      ]
     },
     "execution_count": 79,
     "metadata": {},
     "output_type": "execute_result"
    }
   ],
   "source": [
    "np.percentile(list_mark,[25])"
   ]
  },
  {
   "cell_type": "code",
   "execution_count": 80,
   "id": "9e640fde-2c44-43b4-9805-25c058040c47",
   "metadata": {},
   "outputs": [
    {
     "data": {
      "text/plain": [
       "array([78.])"
      ]
     },
     "execution_count": 80,
     "metadata": {},
     "output_type": "execute_result"
    }
   ],
   "source": [
    "np.percentile(list_mark,[50])"
   ]
  },
  {
   "cell_type": "code",
   "execution_count": 81,
   "id": "247bff0f-1a8b-4d09-a9b7-b10cb30b30bf",
   "metadata": {},
   "outputs": [
    {
     "data": {
      "text/plain": [
       "array([94.5])"
      ]
     },
     "execution_count": 81,
     "metadata": {},
     "output_type": "execute_result"
    }
   ],
   "source": [
    "np.percentile(list_mark,[75])"
   ]
  },
  {
   "cell_type": "code",
   "execution_count": 82,
   "id": "f58516fe-08bb-4627-aa51-d58e01b24648",
   "metadata": {},
   "outputs": [
    {
     "data": {
      "text/plain": [
       "array([1200.])"
      ]
     },
     "execution_count": 82,
     "metadata": {},
     "output_type": "execute_result"
    }
   ],
   "source": [
    "np.percentile(list_mark,[100])"
   ]
  },
  {
   "cell_type": "code",
   "execution_count": 83,
   "id": "742480d5-4568-45b4-bc5a-024e199bfa07",
   "metadata": {},
   "outputs": [],
   "source": [
    "low,Q1,Median,Q3,maximum = np.quantile(list_mark,[0.0,0.25,0.50,0.75,1.0])"
   ]
  },
  {
   "cell_type": "code",
   "execution_count": 84,
   "id": "ed341043-9ad4-4e4f-9d24-6b112d0e1c7e",
   "metadata": {},
   "outputs": [
    {
     "data": {
      "text/plain": [
       "(32.0, 39.5, 78.0, 94.5, 1200.0)"
      ]
     },
     "execution_count": 84,
     "metadata": {},
     "output_type": "execute_result"
    }
   ],
   "source": [
    "low,Q1,Median,Q3,maximum"
   ]
  },
  {
   "cell_type": "markdown",
   "id": "e59b41fd-5148-4a3c-b36f-8980de69b746",
   "metadata": {},
   "source": [
    "## Fence for making boundaries of graph\n",
    "#### lower_fence = refer to lowest value \n",
    "#### higher_fence = refer to maximum value"
   ]
  },
  {
   "cell_type": "code",
   "execution_count": 85,
   "id": "5726da4d-c412-40f5-9c12-89587d0b04b4",
   "metadata": {},
   "outputs": [],
   "source": [
    "### Internal quartile Range = Q3-Q1\n",
    "IQR = Q3 - Q1"
   ]
  },
  {
   "cell_type": "code",
   "execution_count": 86,
   "id": "6bddaa25-6ccc-4d28-8ab6-81eff79380b8",
   "metadata": {},
   "outputs": [
    {
     "data": {
      "text/plain": [
       "55.0"
      ]
     },
     "execution_count": 86,
     "metadata": {},
     "output_type": "execute_result"
    }
   ],
   "source": [
    "IQR"
   ]
  },
  {
   "cell_type": "code",
   "execution_count": 87,
   "id": "01083736-e4aa-4f08-a8f6-8b8d16ad948a",
   "metadata": {},
   "outputs": [],
   "source": [
    "lower_fence = Q1-1.5*(IQR)\n",
    "higher_fence = Q3+1.5*(IQR)"
   ]
  },
  {
   "cell_type": "code",
   "execution_count": 88,
   "id": "1d1619f3-0441-4cef-9544-e5e99e78b6fa",
   "metadata": {},
   "outputs": [
    {
     "data": {
      "text/plain": [
       "(-43.0, 177.0)"
      ]
     },
     "execution_count": 88,
     "metadata": {},
     "output_type": "execute_result"
    }
   ],
   "source": [
    "lower_fence,higher_fence"
   ]
  },
  {
   "cell_type": "code",
   "execution_count": 104,
   "id": "fa123e56-35c2-4725-8d9a-659f4e6ee669",
   "metadata": {},
   "outputs": [
    {
     "name": "stdout",
     "output_type": "stream",
     "text": [
      "not an outlier\n",
      "not an outlier\n",
      "not an outlier\n",
      "not an outlier\n",
      "not an outlier\n",
      "not an outlier\n",
      "not an outlier\n",
      "not an outlier\n",
      "not an outlier\n"
     ]
    }
   ],
   "source": [
    "outliers=[]\n",
    "for i in list_mark:\n",
    "    if i >= -43.0 and i <= 177:\n",
    "        print(\"not an outlier\")\n",
    "    else:\n",
    "        outliers.append(i)\n",
    "    "
   ]
  },
  {
   "cell_type": "code",
   "execution_count": 105,
   "id": "b3a94470-221a-40ef-9226-6af640247db3",
   "metadata": {},
   "outputs": [
    {
     "data": {
      "text/plain": [
       "[1200, 1100]"
      ]
     },
     "execution_count": 105,
     "metadata": {},
     "output_type": "execute_result"
    }
   ],
   "source": [
    "outliers"
   ]
  },
  {
   "cell_type": "code",
   "execution_count": 108,
   "id": "1522d021-e42a-4308-8c2f-45190b0af92d",
   "metadata": {},
   "outputs": [],
   "source": [
    "import seaborn as sns"
   ]
  },
  {
   "cell_type": "code",
   "execution_count": 109,
   "id": "0c05e6c2-5781-4bf5-8b13-af23c972d499",
   "metadata": {},
   "outputs": [
    {
     "data": {
      "text/plain": [
       "<Axes: >"
      ]
     },
     "execution_count": 109,
     "metadata": {},
     "output_type": "execute_result"
    },
    {
     "data": {
      "image/png": "[encoded data removed]",
      "text/plain": [
       "<Figure size 640x480 with 1 Axes>"
      ]
     },
     "metadata": {},
     "output_type": "display_data"
    }
   ],
   "source": [
    "sns.boxplot(list_mark)"
   ]
  },
  {
   "cell_type": "code",
   "execution_count": null,
   "id": "b57731e5-7a43-4dce-a8a1-d2b30e2cda92",
   "metadata": {},
   "outputs": [],
   "source": []
  }
 ],
 "metadata": {
  "kernelspec": {
   "display_name": "Python 3 (ipykernel)",
   "language": "python",
   "name": "python3"
  },
  "language_info": {
   "codemirror_mode": {
    "name": "ipython",
    "version": 3
   },
   "file_extension": ".py",
   "mimetype": "text/x-python",
   "name": "python",
   "nbconvert_exporter": "python",
   "pygments_lexer": "ipython3",
   "version": "3.11.5"
  }
 },
 "nbformat": 4,
 "nbformat_minor": 5
}
