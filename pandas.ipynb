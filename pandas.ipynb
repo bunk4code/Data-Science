{
 "cells": [
  {
   "cell_type": "code",
   "execution_count": 58,
   "id": "c5e1b27e-6b07-40b6-85a4-4d72b4ba7b67",
   "metadata": {
    "tags": []
   },
   "outputs": [],
   "source": [
    "import pandas as pd"
   ]
  },
  {
   "cell_type": "code",
   "execution_count": 59,
   "id": "698670a1-5dae-4994-b9c8-e32204902277",
   "metadata": {
    "tags": []
   },
   "outputs": [],
   "source": [
    "df = pd.read_csv(\"datasets/services.csv\" )"
   ]
  },
  {
   "cell_type": "code",
   "execution_count": 60,
   "id": "a0db3df8-1450-49f9-baa1-db8aa3734b35",
   "metadata": {
    "tags": []
   },
   "outputs": [
    {
     "data": {
      "text/html": [
       "<div>\n",
       "<style scoped>\n",
       "    .dataframe tbody tr th:only-of-type {\n",
       "        vertical-align: middle;\n",
       "    }\n",
       "\n",
       "    .dataframe tbody tr th {\n",
       "        vertical-align: top;\n",
       "    }\n",
       "\n",
       "    .dataframe thead th {\n",
       "        text-align: right;\n",
       "    }\n",
       "</style>\n",
       "<table border=\"1\" class=\"dataframe\">\n",
       "  <thead>\n",
       "    <tr style=\"text-align: right;\">\n",
       "      <th></th>\n",
       "      <th>Index</th>\n",
       "      <th>Customer Id</th>\n",
       "      <th>First Name</th>\n",
       "      <th>Last Name</th>\n",
       "      <th>Company</th>\n",
       "      <th>City</th>\n",
       "      <th>Country</th>\n",
       "      <th>Phone 1</th>\n",
       "      <th>Phone 2</th>\n",
       "      <th>Email</th>\n",
       "      <th>Subscription Date</th>\n",
       "      <th>Website</th>\n",
       "    </tr>\n",
       "  </thead>\n",
       "  <tbody>\n",
       "    <tr>\n",
       "      <th>0</th>\n",
       "      <td>1</td>\n",
       "      <td>DD37Cf93aecA6Dc</td>\n",
       "      <td>Sheryl</td>\n",
       "      <td>Baxter</td>\n",
       "      <td>Rasmussen Group</td>\n",
       "      <td>East Leonard</td>\n",
       "      <td>Chile</td>\n",
       "      <td>229.077.5154</td>\n",
       "      <td>397.884.0519x718</td>\n",
       "      <td>zunigavanessa@smith.info</td>\n",
       "      <td>2020-08-24</td>\n",
       "      <td>http://www.stephenson.com/</td>\n",
       "    </tr>\n",
       "    <tr>\n",
       "      <th>1</th>\n",
       "      <td>2</td>\n",
       "      <td>1Ef7b82A4CAAD10</td>\n",
       "      <td>Preston</td>\n",
       "      <td>Lozano</td>\n",
       "      <td>Vega-Gentry</td>\n",
       "      <td>East Jimmychester</td>\n",
       "      <td>Djibouti</td>\n",
       "      <td>5153435776</td>\n",
       "      <td>686-620-1820x944</td>\n",
       "      <td>vmata@colon.com</td>\n",
       "      <td>2021-04-23</td>\n",
       "      <td>http://www.hobbs.com/</td>\n",
       "    </tr>\n",
       "    <tr>\n",
       "      <th>2</th>\n",
       "      <td>3</td>\n",
       "      <td>6F94879bDAfE5a6</td>\n",
       "      <td>Roy</td>\n",
       "      <td>Berry</td>\n",
       "      <td>Murillo-Perry</td>\n",
       "      <td>Isabelborough</td>\n",
       "      <td>Antigua and Barbuda</td>\n",
       "      <td>+1-539-402-0259</td>\n",
       "      <td>(496)978-3969x58947</td>\n",
       "      <td>beckycarr@hogan.com</td>\n",
       "      <td>2020-03-25</td>\n",
       "      <td>http://www.lawrence.com/</td>\n",
       "    </tr>\n",
       "    <tr>\n",
       "      <th>3</th>\n",
       "      <td>4</td>\n",
       "      <td>5Cef8BFA16c5e3c</td>\n",
       "      <td>Linda</td>\n",
       "      <td>Olsen</td>\n",
       "      <td>Dominguez, Mcmillan and Donovan</td>\n",
       "      <td>Bensonview</td>\n",
       "      <td>Dominican Republic</td>\n",
       "      <td>001-808-617-6467x12895</td>\n",
       "      <td>+1-813-324-8756</td>\n",
       "      <td>stanleyblackwell@benson.org</td>\n",
       "      <td>2020-06-02</td>\n",
       "      <td>http://www.good-lyons.com/</td>\n",
       "    </tr>\n",
       "    <tr>\n",
       "      <th>4</th>\n",
       "      <td>5</td>\n",
       "      <td>053d585Ab6b3159</td>\n",
       "      <td>Joanna</td>\n",
       "      <td>Bender</td>\n",
       "      <td>Martin, Lang and Andrade</td>\n",
       "      <td>West Priscilla</td>\n",
       "      <td>Slovakia (Slovak Republic)</td>\n",
       "      <td>001-234-203-0635x76146</td>\n",
       "      <td>001-199-446-3860x3486</td>\n",
       "      <td>colinalvarado@miles.net</td>\n",
       "      <td>2021-04-17</td>\n",
       "      <td>https://goodwin-ingram.com/</td>\n",
       "    </tr>\n",
       "  </tbody>\n",
       "</table>\n",
       "</div>"
      ],
      "text/plain": [
       "   Index      Customer Id First Name Last Name  \\\n",
       "0      1  DD37Cf93aecA6Dc     Sheryl    Baxter   \n",
       "1      2  1Ef7b82A4CAAD10    Preston    Lozano   \n",
       "2      3  6F94879bDAfE5a6        Roy     Berry   \n",
       "3      4  5Cef8BFA16c5e3c      Linda     Olsen   \n",
       "4      5  053d585Ab6b3159     Joanna    Bender   \n",
       "\n",
       "                           Company               City  \\\n",
       "0                  Rasmussen Group       East Leonard   \n",
       "1                      Vega-Gentry  East Jimmychester   \n",
       "2                    Murillo-Perry      Isabelborough   \n",
       "3  Dominguez, Mcmillan and Donovan         Bensonview   \n",
       "4         Martin, Lang and Andrade     West Priscilla   \n",
       "\n",
       "                      Country                 Phone 1                Phone 2  \\\n",
       "0                       Chile            229.077.5154       397.884.0519x718   \n",
       "1                    Djibouti              5153435776       686-620-1820x944   \n",
       "2         Antigua and Barbuda         +1-539-402-0259    (496)978-3969x58947   \n",
       "3          Dominican Republic  001-808-617-6467x12895        +1-813-324-8756   \n",
       "4  Slovakia (Slovak Republic)  001-234-203-0635x76146  001-199-446-3860x3486   \n",
       "\n",
       "                         Email Subscription Date                      Website  \n",
       "0     zunigavanessa@smith.info        2020-08-24   http://www.stephenson.com/  \n",
       "1              vmata@colon.com        2021-04-23        http://www.hobbs.com/  \n",
       "2          beckycarr@hogan.com        2020-03-25     http://www.lawrence.com/  \n",
       "3  stanleyblackwell@benson.org        2020-06-02   http://www.good-lyons.com/  \n",
       "4      colinalvarado@miles.net        2021-04-17  https://goodwin-ingram.com/  "
      ]
     },
     "execution_count": 60,
     "metadata": {},
     "output_type": "execute_result"
    }
   ],
   "source": [
    "df.head()"
   ]
  },
  {
   "cell_type": "code",
   "execution_count": 61,
   "id": "854fbd27-60a9-4803-8cd0-51e6ae9f4eea",
   "metadata": {
    "tags": []
   },
   "outputs": [
    {
     "data": {
      "text/plain": [
       "Index(['Index', 'Customer Id', 'First Name', 'Last Name', 'Company', 'City',\n",
       "       'Country', 'Phone 1', 'Phone 2', 'Email', 'Subscription Date',\n",
       "       'Website'],\n",
       "      dtype='object')"
      ]
     },
     "execution_count": 61,
     "metadata": {},
     "output_type": "execute_result"
    }
   ],
   "source": [
    "df.columns"
   ]
  },
  {
   "cell_type": "code",
   "execution_count": 62,
   "id": "18b8e77f-74e4-40e2-98a1-cb3463c48700",
   "metadata": {
    "tags": []
   },
   "outputs": [
    {
     "data": {
      "text/plain": [
       "0                          Chile\n",
       "1                       Djibouti\n",
       "2            Antigua and Barbuda\n",
       "3             Dominican Republic\n",
       "4     Slovakia (Slovak Republic)\n",
       "                 ...            \n",
       "95                        Guyana\n",
       "96                     Sri Lanka\n",
       "97               Solomon Islands\n",
       "98                         Aruba\n",
       "99                      Honduras\n",
       "Name: Country, Length: 100, dtype: object"
      ]
     },
     "execution_count": 62,
     "metadata": {},
     "output_type": "execute_result"
    }
   ],
   "source": [
    "df['Country']"
   ]
  },
  {
   "cell_type": "code",
   "execution_count": 63,
   "id": "568dd505-c2c0-46a9-85cd-6f91a45dcd15",
   "metadata": {
    "tags": []
   },
   "outputs": [
    {
     "data": {
      "text/html": [
       "<div>\n",
       "<style scoped>\n",
       "    .dataframe tbody tr th:only-of-type {\n",
       "        vertical-align: middle;\n",
       "    }\n",
       "\n",
       "    .dataframe tbody tr th {\n",
       "        vertical-align: top;\n",
       "    }\n",
       "\n",
       "    .dataframe thead th {\n",
       "        text-align: right;\n",
       "    }\n",
       "</style>\n",
       "<table border=\"1\" class=\"dataframe\">\n",
       "  <thead>\n",
       "    <tr style=\"text-align: right;\">\n",
       "      <th></th>\n",
       "      <th>Phone 1</th>\n",
       "      <th>Email</th>\n",
       "    </tr>\n",
       "  </thead>\n",
       "  <tbody>\n",
       "    <tr>\n",
       "      <th>0</th>\n",
       "      <td>229.077.5154</td>\n",
       "      <td>zunigavanessa@smith.info</td>\n",
       "    </tr>\n",
       "    <tr>\n",
       "      <th>1</th>\n",
       "      <td>5153435776</td>\n",
       "      <td>vmata@colon.com</td>\n",
       "    </tr>\n",
       "    <tr>\n",
       "      <th>2</th>\n",
       "      <td>+1-539-402-0259</td>\n",
       "      <td>beckycarr@hogan.com</td>\n",
       "    </tr>\n",
       "    <tr>\n",
       "      <th>3</th>\n",
       "      <td>001-808-617-6467x12895</td>\n",
       "      <td>stanleyblackwell@benson.org</td>\n",
       "    </tr>\n",
       "    <tr>\n",
       "      <th>4</th>\n",
       "      <td>001-234-203-0635x76146</td>\n",
       "      <td>colinalvarado@miles.net</td>\n",
       "    </tr>\n",
       "    <tr>\n",
       "      <th>...</th>\n",
       "      <td>...</td>\n",
       "      <td>...</td>\n",
       "    </tr>\n",
       "    <tr>\n",
       "      <th>95</th>\n",
       "      <td>(188)169-1674x58692</td>\n",
       "      <td>hhart@jensen.com</td>\n",
       "    </tr>\n",
       "    <tr>\n",
       "      <th>96</th>\n",
       "      <td>+1-846-706-2218</td>\n",
       "      <td>vkemp@ferrell.com</td>\n",
       "    </tr>\n",
       "    <tr>\n",
       "      <th>97</th>\n",
       "      <td>+1-753-067-8419x7170</td>\n",
       "      <td>swagner@kane.org</td>\n",
       "    </tr>\n",
       "    <tr>\n",
       "      <th>98</th>\n",
       "      <td>(530)311-9786</td>\n",
       "      <td>mccarthystephen@horn-green.biz</td>\n",
       "    </tr>\n",
       "    <tr>\n",
       "      <th>99</th>\n",
       "      <td>(753)813-6941</td>\n",
       "      <td>colleen91@faulkner.biz</td>\n",
       "    </tr>\n",
       "  </tbody>\n",
       "</table>\n",
       "<p>100 rows × 2 columns</p>\n",
       "</div>"
      ],
      "text/plain": [
       "                   Phone 1                           Email\n",
       "0             229.077.5154        zunigavanessa@smith.info\n",
       "1               5153435776                 vmata@colon.com\n",
       "2          +1-539-402-0259             beckycarr@hogan.com\n",
       "3   001-808-617-6467x12895     stanleyblackwell@benson.org\n",
       "4   001-234-203-0635x76146         colinalvarado@miles.net\n",
       "..                     ...                             ...\n",
       "95     (188)169-1674x58692                hhart@jensen.com\n",
       "96         +1-846-706-2218               vkemp@ferrell.com\n",
       "97    +1-753-067-8419x7170                swagner@kane.org\n",
       "98           (530)311-9786  mccarthystephen@horn-green.biz\n",
       "99           (753)813-6941          colleen91@faulkner.biz\n",
       "\n",
       "[100 rows x 2 columns]"
      ]
     },
     "execution_count": 63,
     "metadata": {},
     "output_type": "execute_result"
    }
   ],
   "source": [
    "df[['Phone 1','Email']]"
   ]
  },
  {
   "cell_type": "code",
   "execution_count": 64,
   "id": "e35daff5-9a97-4ddc-b55d-6b8440f9356b",
   "metadata": {
    "tags": []
   },
   "outputs": [
    {
     "data": {
      "text/plain": [
       "pandas.core.series.Series"
      ]
     },
     "execution_count": 64,
     "metadata": {},
     "output_type": "execute_result"
    }
   ],
   "source": [
    "type(df['Phone 1'])"
   ]
  },
  {
   "cell_type": "code",
   "execution_count": 65,
   "id": "56417998-443a-4a04-9264-022b2a3303ca",
   "metadata": {
    "tags": []
   },
   "outputs": [
    {
     "data": {
      "text/plain": [
       "pandas.core.frame.DataFrame"
      ]
     },
     "execution_count": 65,
     "metadata": {},
     "output_type": "execute_result"
    }
   ],
   "source": [
    "type(df[['Phone 1','Email']])"
   ]
  },
  {
   "cell_type": "code",
   "execution_count": 66,
   "id": "9b7d12cf-619f-408e-a571-eb262899187a",
   "metadata": {
    "tags": []
   },
   "outputs": [
    {
     "data": {
      "text/plain": [
       "int"
      ]
     },
     "execution_count": 66,
     "metadata": {},
     "output_type": "execute_result"
    }
   ],
   "source": [
    "type(5)"
   ]
  },
  {
   "cell_type": "code",
   "execution_count": 67,
   "id": "706e1400-f7af-4fa6-aeb4-87e6d1e7cd05",
   "metadata": {
    "tags": []
   },
   "outputs": [
    {
     "data": {
      "text/plain": [
       "0           zunigavanessa@smith.info\n",
       "1                    vmata@colon.com\n",
       "2                beckycarr@hogan.com\n",
       "3        stanleyblackwell@benson.org\n",
       "4            colinalvarado@miles.net\n",
       "                   ...              \n",
       "95                  hhart@jensen.com\n",
       "96                 vkemp@ferrell.com\n",
       "97                  swagner@kane.org\n",
       "98    mccarthystephen@horn-green.biz\n",
       "99            colleen91@faulkner.biz\n",
       "Name: Email, Length: 100, dtype: object"
      ]
     },
     "execution_count": 67,
     "metadata": {},
     "output_type": "execute_result"
    }
   ],
   "source": [
    "df['Email']\n"
   ]
  },
  {
   "cell_type": "code",
   "execution_count": 68,
   "id": "ae37ec8b-3326-44bd-91f6-bbbef9df60dc",
   "metadata": {
    "tags": []
   },
   "outputs": [
    {
     "data": {
      "text/html": [
       "<div>\n",
       "<style scoped>\n",
       "    .dataframe tbody tr th:only-of-type {\n",
       "        vertical-align: middle;\n",
       "    }\n",
       "\n",
       "    .dataframe tbody tr th {\n",
       "        vertical-align: top;\n",
       "    }\n",
       "\n",
       "    .dataframe thead th {\n",
       "        text-align: right;\n",
       "    }\n",
       "</style>\n",
       "<table border=\"1\" class=\"dataframe\">\n",
       "  <thead>\n",
       "    <tr style=\"text-align: right;\">\n",
       "      <th></th>\n",
       "      <th>Email</th>\n",
       "    </tr>\n",
       "  </thead>\n",
       "  <tbody>\n",
       "    <tr>\n",
       "      <th>0</th>\n",
       "      <td>zunigavanessa@smith.info</td>\n",
       "    </tr>\n",
       "    <tr>\n",
       "      <th>1</th>\n",
       "      <td>vmata@colon.com</td>\n",
       "    </tr>\n",
       "    <tr>\n",
       "      <th>2</th>\n",
       "      <td>beckycarr@hogan.com</td>\n",
       "    </tr>\n",
       "    <tr>\n",
       "      <th>3</th>\n",
       "      <td>stanleyblackwell@benson.org</td>\n",
       "    </tr>\n",
       "    <tr>\n",
       "      <th>4</th>\n",
       "      <td>colinalvarado@miles.net</td>\n",
       "    </tr>\n",
       "    <tr>\n",
       "      <th>...</th>\n",
       "      <td>...</td>\n",
       "    </tr>\n",
       "    <tr>\n",
       "      <th>95</th>\n",
       "      <td>hhart@jensen.com</td>\n",
       "    </tr>\n",
       "    <tr>\n",
       "      <th>96</th>\n",
       "      <td>vkemp@ferrell.com</td>\n",
       "    </tr>\n",
       "    <tr>\n",
       "      <th>97</th>\n",
       "      <td>swagner@kane.org</td>\n",
       "    </tr>\n",
       "    <tr>\n",
       "      <th>98</th>\n",
       "      <td>mccarthystephen@horn-green.biz</td>\n",
       "    </tr>\n",
       "    <tr>\n",
       "      <th>99</th>\n",
       "      <td>colleen91@faulkner.biz</td>\n",
       "    </tr>\n",
       "  </tbody>\n",
       "</table>\n",
       "<p>100 rows × 1 columns</p>\n",
       "</div>"
      ],
      "text/plain": [
       "                             Email\n",
       "0         zunigavanessa@smith.info\n",
       "1                  vmata@colon.com\n",
       "2              beckycarr@hogan.com\n",
       "3      stanleyblackwell@benson.org\n",
       "4          colinalvarado@miles.net\n",
       "..                             ...\n",
       "95                hhart@jensen.com\n",
       "96               vkemp@ferrell.com\n",
       "97                swagner@kane.org\n",
       "98  mccarthystephen@horn-green.biz\n",
       "99          colleen91@faulkner.biz\n",
       "\n",
       "[100 rows x 1 columns]"
      ]
     },
     "execution_count": 68,
     "metadata": {},
     "output_type": "execute_result"
    }
   ],
   "source": [
    "df[['Email']]"
   ]
  },
  {
   "cell_type": "code",
   "execution_count": 69,
   "id": "398c1e6f-17cf-4534-9edb-a7693ce3776e",
   "metadata": {
    "tags": []
   },
   "outputs": [
    {
     "data": {
      "text/plain": [
       "['zunigavanessa@smith.info',\n",
       " 'vmata@colon.com',\n",
       " 'beckycarr@hogan.com',\n",
       " 'stanleyblackwell@benson.org',\n",
       " 'colinalvarado@miles.net',\n",
       " 'louis27@gilbert.com',\n",
       " 'tgates@cantrell.com',\n",
       " 'asnow@colon.com',\n",
       " 'mariokhan@ryan-pope.org',\n",
       " 'mdyer@escobar.net',\n",
       " 'kirksalas@webb.com',\n",
       " 'mark42@robbins.com',\n",
       " 'alex56@walls.org',\n",
       " 'holdenmiranda@clarke.com',\n",
       " 'cassieparrish@blevins-chapman.net',\n",
       " 'vduncan@parks-hardy.com',\n",
       " 'holtgwendolyn@watson-davenport.com',\n",
       " 'jaredjuarez@carroll.org',\n",
       " 'joseph26@jacobson.com',\n",
       " 'tuckerangie@salazar.net',\n",
       " 'fgibson@drake-webb.com',\n",
       " 'blanchardbob@wallace-shannon.com',\n",
       " 'rsingleton@ryan-cherry.com',\n",
       " 'stefanie71@spence.com',\n",
       " 'mariah88@santos.com',\n",
       " 'donnamullins@norris-barrett.org',\n",
       " 'stacey67@fields.org',\n",
       " 'jacobkhan@bright.biz',\n",
       " 'wterrell@clark.com',\n",
       " 'qjimenez@boyd.com',\n",
       " 'gfigueroa@boone-zavala.com',\n",
       " 'tapiagreg@beard.info',\n",
       " 'coleolson@jennings.net',\n",
       " 'georgeross@miles.org',\n",
       " 'willistonya@randolph-baker.com',\n",
       " 'harrisisaiah@jenkins.com',\n",
       " 'fwolfe@dorsey.com',\n",
       " 'tiffanydavies@harris-mcfarland.org',\n",
       " 'preese@frye-vega.com',\n",
       " 'ann48@miller.com',\n",
       " 'tcummings@fitzpatrick-ashley.com',\n",
       " 'woodwardandres@phelps.com',\n",
       " 'barbarapittman@holder.com',\n",
       " 'bstuart@williamson-mcclure.com',\n",
       " 'zkrueger@wolf-chavez.net',\n",
       " 'juan80@henson.net',\n",
       " 'bauercrystal@gay.com',\n",
       " 'bartlettjenna@zuniga-moss.biz',\n",
       " 'mccalltyrone@durham-rose.biz',\n",
       " 'bobhammond@barry.biz',\n",
       " 'uwarner@steele-arias.com',\n",
       " 'xpittman@ritter-carney.net',\n",
       " 'vaughanchristy@lara.biz',\n",
       " 'clinton85@colon-arias.org',\n",
       " 'greenemiranda@zimmerman.com',\n",
       " 'goodmancesar@figueroa.biz',\n",
       " 'yhanson@warner-diaz.org',\n",
       " 'howelldarren@house-cohen.com',\n",
       " 'ncamacho@boone-simmons.org',\n",
       " 'kristopher62@oliver.com',\n",
       " 'mpham@rios-guzman.com',\n",
       " 'zachary96@mitchell-bryant.org',\n",
       " 'kristiwhitney@bernard.com',\n",
       " 'leah85@sutton-terrell.com',\n",
       " 'levigiles@vincent.com',\n",
       " 'fisherlinda@schaefer.net',\n",
       " 'scottcurtis@hurley.biz',\n",
       " 'nicholsonnina@montgomery.info',\n",
       " 'zvalencia@phelps.com',\n",
       " 'alex06@galloway.com',\n",
       " 'lee48@manning.com',\n",
       " 'aharper@maddox-townsend.org',\n",
       " 'buckleycory@odonnell.net',\n",
       " 'angie04@oconnell.com',\n",
       " 'zrosario@rojas-hardin.net',\n",
       " 'shieldskerry@robles.com',\n",
       " 'mchandler@cochran-huerta.org',\n",
       " 'katrinalane@fitzgerald.com',\n",
       " 'cookejill@powell.com',\n",
       " 'elizabethbarr@ewing.com',\n",
       " 'corey75@wiggins.com',\n",
       " 'chloelester@higgins-wilkinson.com',\n",
       " 'isaac26@benton-finley.com',\n",
       " 'justinwalters@jimenez.com',\n",
       " 'maurice46@morgan.com',\n",
       " 'walter83@juarez.org',\n",
       " 'kmercer@wagner.com',\n",
       " 'vcantu@norton.com',\n",
       " 'hilljesse@barrett.info',\n",
       " 'tyrone77@valenzuela.info',\n",
       " 'elliserica@frank.com',\n",
       " 'nsteele@sparks.com',\n",
       " 'dudleyemily@gonzales.biz',\n",
       " 'alan79@gates-mclaughlin.com',\n",
       " 'grayjean@lowery-good.com',\n",
       " 'hhart@jensen.com',\n",
       " 'vkemp@ferrell.com',\n",
       " 'swagner@kane.org',\n",
       " 'mccarthystephen@horn-green.biz',\n",
       " 'colleen91@faulkner.biz']"
      ]
     },
     "execution_count": 69,
     "metadata": {},
     "output_type": "execute_result"
    }
   ],
   "source": [
    "list(df['Email'])"
   ]
  },
  {
   "cell_type": "code",
   "execution_count": 70,
   "id": "586cab25-1899-4e75-96b1-70ade23dcc17",
   "metadata": {
    "tags": []
   },
   "outputs": [],
   "source": [
    "link = pd.read_csv(\"https://media.githubusercontent.com/media/datablist/sample-csv-files/main/files/customers/customers-100.csv\")"
   ]
  },
  {
   "cell_type": "code",
   "execution_count": 71,
   "id": "259195db-5a6a-48b5-a505-c1ae7d95ce9b",
   "metadata": {
    "tags": []
   },
   "outputs": [
    {
     "data": {
      "text/html": [
       "<div>\n",
       "<style scoped>\n",
       "    .dataframe tbody tr th:only-of-type {\n",
       "        vertical-align: middle;\n",
       "    }\n",
       "\n",
       "    .dataframe tbody tr th {\n",
       "        vertical-align: top;\n",
       "    }\n",
       "\n",
       "    .dataframe thead th {\n",
       "        text-align: right;\n",
       "    }\n",
       "</style>\n",
       "<table border=\"1\" class=\"dataframe\">\n",
       "  <thead>\n",
       "    <tr style=\"text-align: right;\">\n",
       "      <th></th>\n",
       "      <th>Index</th>\n",
       "      <th>Customer Id</th>\n",
       "      <th>First Name</th>\n",
       "      <th>Last Name</th>\n",
       "      <th>Company</th>\n",
       "      <th>City</th>\n",
       "      <th>Country</th>\n",
       "      <th>Phone 1</th>\n",
       "      <th>Phone 2</th>\n",
       "      <th>Email</th>\n",
       "      <th>Subscription Date</th>\n",
       "      <th>Website</th>\n",
       "    </tr>\n",
       "  </thead>\n",
       "  <tbody>\n",
       "    <tr>\n",
       "      <th>0</th>\n",
       "      <td>1</td>\n",
       "      <td>DD37Cf93aecA6Dc</td>\n",
       "      <td>Sheryl</td>\n",
       "      <td>Baxter</td>\n",
       "      <td>Rasmussen Group</td>\n",
       "      <td>East Leonard</td>\n",
       "      <td>Chile</td>\n",
       "      <td>229.077.5154</td>\n",
       "      <td>397.884.0519x718</td>\n",
       "      <td>zunigavanessa@smith.info</td>\n",
       "      <td>2020-08-24</td>\n",
       "      <td>http://www.stephenson.com/</td>\n",
       "    </tr>\n",
       "    <tr>\n",
       "      <th>1</th>\n",
       "      <td>2</td>\n",
       "      <td>1Ef7b82A4CAAD10</td>\n",
       "      <td>Preston</td>\n",
       "      <td>Lozano</td>\n",
       "      <td>Vega-Gentry</td>\n",
       "      <td>East Jimmychester</td>\n",
       "      <td>Djibouti</td>\n",
       "      <td>5153435776</td>\n",
       "      <td>686-620-1820x944</td>\n",
       "      <td>vmata@colon.com</td>\n",
       "      <td>2021-04-23</td>\n",
       "      <td>http://www.hobbs.com/</td>\n",
       "    </tr>\n",
       "    <tr>\n",
       "      <th>2</th>\n",
       "      <td>3</td>\n",
       "      <td>6F94879bDAfE5a6</td>\n",
       "      <td>Roy</td>\n",
       "      <td>Berry</td>\n",
       "      <td>Murillo-Perry</td>\n",
       "      <td>Isabelborough</td>\n",
       "      <td>Antigua and Barbuda</td>\n",
       "      <td>+1-539-402-0259</td>\n",
       "      <td>(496)978-3969x58947</td>\n",
       "      <td>beckycarr@hogan.com</td>\n",
       "      <td>2020-03-25</td>\n",
       "      <td>http://www.lawrence.com/</td>\n",
       "    </tr>\n",
       "    <tr>\n",
       "      <th>3</th>\n",
       "      <td>4</td>\n",
       "      <td>5Cef8BFA16c5e3c</td>\n",
       "      <td>Linda</td>\n",
       "      <td>Olsen</td>\n",
       "      <td>Dominguez, Mcmillan and Donovan</td>\n",
       "      <td>Bensonview</td>\n",
       "      <td>Dominican Republic</td>\n",
       "      <td>001-808-617-6467x12895</td>\n",
       "      <td>+1-813-324-8756</td>\n",
       "      <td>stanleyblackwell@benson.org</td>\n",
       "      <td>2020-06-02</td>\n",
       "      <td>http://www.good-lyons.com/</td>\n",
       "    </tr>\n",
       "    <tr>\n",
       "      <th>4</th>\n",
       "      <td>5</td>\n",
       "      <td>053d585Ab6b3159</td>\n",
       "      <td>Joanna</td>\n",
       "      <td>Bender</td>\n",
       "      <td>Martin, Lang and Andrade</td>\n",
       "      <td>West Priscilla</td>\n",
       "      <td>Slovakia (Slovak Republic)</td>\n",
       "      <td>001-234-203-0635x76146</td>\n",
       "      <td>001-199-446-3860x3486</td>\n",
       "      <td>colinalvarado@miles.net</td>\n",
       "      <td>2021-04-17</td>\n",
       "      <td>https://goodwin-ingram.com/</td>\n",
       "    </tr>\n",
       "    <tr>\n",
       "      <th>...</th>\n",
       "      <td>...</td>\n",
       "      <td>...</td>\n",
       "      <td>...</td>\n",
       "      <td>...</td>\n",
       "      <td>...</td>\n",
       "      <td>...</td>\n",
       "      <td>...</td>\n",
       "      <td>...</td>\n",
       "      <td>...</td>\n",
       "      <td>...</td>\n",
       "      <td>...</td>\n",
       "      <td>...</td>\n",
       "    </tr>\n",
       "    <tr>\n",
       "      <th>95</th>\n",
       "      <td>96</td>\n",
       "      <td>cb8E23e48d22Eae</td>\n",
       "      <td>Karl</td>\n",
       "      <td>Greer</td>\n",
       "      <td>Carey LLC</td>\n",
       "      <td>East Richard</td>\n",
       "      <td>Guyana</td>\n",
       "      <td>(188)169-1674x58692</td>\n",
       "      <td>001-841-293-3519x614</td>\n",
       "      <td>hhart@jensen.com</td>\n",
       "      <td>2022-01-30</td>\n",
       "      <td>http://hayes-perez.com/</td>\n",
       "    </tr>\n",
       "    <tr>\n",
       "      <th>96</th>\n",
       "      <td>97</td>\n",
       "      <td>CeD220bdAaCfaDf</td>\n",
       "      <td>Lynn</td>\n",
       "      <td>Atkinson</td>\n",
       "      <td>Ware, Burns and Oneal</td>\n",
       "      <td>New Bradview</td>\n",
       "      <td>Sri Lanka</td>\n",
       "      <td>+1-846-706-2218</td>\n",
       "      <td>605.413.3198</td>\n",
       "      <td>vkemp@ferrell.com</td>\n",
       "      <td>2021-07-10</td>\n",
       "      <td>https://novak-allison.com/</td>\n",
       "    </tr>\n",
       "    <tr>\n",
       "      <th>97</th>\n",
       "      <td>98</td>\n",
       "      <td>28CDbC0dFe4b1Db</td>\n",
       "      <td>Fred</td>\n",
       "      <td>Guerra</td>\n",
       "      <td>Schmitt-Jones</td>\n",
       "      <td>Ortegaland</td>\n",
       "      <td>Solomon Islands</td>\n",
       "      <td>+1-753-067-8419x7170</td>\n",
       "      <td>+1-632-666-7507x92121</td>\n",
       "      <td>swagner@kane.org</td>\n",
       "      <td>2021-09-18</td>\n",
       "      <td>https://www.ross.com/</td>\n",
       "    </tr>\n",
       "    <tr>\n",
       "      <th>98</th>\n",
       "      <td>99</td>\n",
       "      <td>c23d1D9EE8DEB0A</td>\n",
       "      <td>Yvonne</td>\n",
       "      <td>Farmer</td>\n",
       "      <td>Fitzgerald-Harrell</td>\n",
       "      <td>Lake Elijahview</td>\n",
       "      <td>Aruba</td>\n",
       "      <td>(530)311-9786</td>\n",
       "      <td>001-869-452-0943x12424</td>\n",
       "      <td>mccarthystephen@horn-green.biz</td>\n",
       "      <td>2021-08-11</td>\n",
       "      <td>http://watkins.info/</td>\n",
       "    </tr>\n",
       "    <tr>\n",
       "      <th>99</th>\n",
       "      <td>100</td>\n",
       "      <td>2354a0E336A91A1</td>\n",
       "      <td>Clarence</td>\n",
       "      <td>Haynes</td>\n",
       "      <td>Le, Nash and Cross</td>\n",
       "      <td>Judymouth</td>\n",
       "      <td>Honduras</td>\n",
       "      <td>(753)813-6941</td>\n",
       "      <td>783.639.1472</td>\n",
       "      <td>colleen91@faulkner.biz</td>\n",
       "      <td>2020-03-11</td>\n",
       "      <td>http://www.hatfield-saunders.net/</td>\n",
       "    </tr>\n",
       "  </tbody>\n",
       "</table>\n",
       "<p>100 rows × 12 columns</p>\n",
       "</div>"
      ],
      "text/plain": [
       "    Index      Customer Id First Name Last Name  \\\n",
       "0       1  DD37Cf93aecA6Dc     Sheryl    Baxter   \n",
       "1       2  1Ef7b82A4CAAD10    Preston    Lozano   \n",
       "2       3  6F94879bDAfE5a6        Roy     Berry   \n",
       "3       4  5Cef8BFA16c5e3c      Linda     Olsen   \n",
       "4       5  053d585Ab6b3159     Joanna    Bender   \n",
       "..    ...              ...        ...       ...   \n",
       "95     96  cb8E23e48d22Eae       Karl     Greer   \n",
       "96     97  CeD220bdAaCfaDf       Lynn  Atkinson   \n",
       "97     98  28CDbC0dFe4b1Db       Fred    Guerra   \n",
       "98     99  c23d1D9EE8DEB0A     Yvonne    Farmer   \n",
       "99    100  2354a0E336A91A1   Clarence    Haynes   \n",
       "\n",
       "                            Company               City  \\\n",
       "0                   Rasmussen Group       East Leonard   \n",
       "1                       Vega-Gentry  East Jimmychester   \n",
       "2                     Murillo-Perry      Isabelborough   \n",
       "3   Dominguez, Mcmillan and Donovan         Bensonview   \n",
       "4          Martin, Lang and Andrade     West Priscilla   \n",
       "..                              ...                ...   \n",
       "95                        Carey LLC       East Richard   \n",
       "96            Ware, Burns and Oneal       New Bradview   \n",
       "97                    Schmitt-Jones         Ortegaland   \n",
       "98               Fitzgerald-Harrell    Lake Elijahview   \n",
       "99               Le, Nash and Cross          Judymouth   \n",
       "\n",
       "                       Country                 Phone 1  \\\n",
       "0                        Chile            229.077.5154   \n",
       "1                     Djibouti              5153435776   \n",
       "2          Antigua and Barbuda         +1-539-402-0259   \n",
       "3           Dominican Republic  001-808-617-6467x12895   \n",
       "4   Slovakia (Slovak Republic)  001-234-203-0635x76146   \n",
       "..                         ...                     ...   \n",
       "95                      Guyana     (188)169-1674x58692   \n",
       "96                   Sri Lanka         +1-846-706-2218   \n",
       "97             Solomon Islands    +1-753-067-8419x7170   \n",
       "98                       Aruba           (530)311-9786   \n",
       "99                    Honduras           (753)813-6941   \n",
       "\n",
       "                   Phone 2                           Email Subscription Date  \\\n",
       "0         397.884.0519x718        zunigavanessa@smith.info        2020-08-24   \n",
       "1         686-620-1820x944                 vmata@colon.com        2021-04-23   \n",
       "2      (496)978-3969x58947             beckycarr@hogan.com        2020-03-25   \n",
       "3          +1-813-324-8756     stanleyblackwell@benson.org        2020-06-02   \n",
       "4    001-199-446-3860x3486         colinalvarado@miles.net        2021-04-17   \n",
       "..                     ...                             ...               ...   \n",
       "95    001-841-293-3519x614                hhart@jensen.com        2022-01-30   \n",
       "96            605.413.3198               vkemp@ferrell.com        2021-07-10   \n",
       "97   +1-632-666-7507x92121                swagner@kane.org        2021-09-18   \n",
       "98  001-869-452-0943x12424  mccarthystephen@horn-green.biz        2021-08-11   \n",
       "99            783.639.1472          colleen91@faulkner.biz        2020-03-11   \n",
       "\n",
       "                              Website  \n",
       "0          http://www.stephenson.com/  \n",
       "1               http://www.hobbs.com/  \n",
       "2            http://www.lawrence.com/  \n",
       "3          http://www.good-lyons.com/  \n",
       "4         https://goodwin-ingram.com/  \n",
       "..                                ...  \n",
       "95            http://hayes-perez.com/  \n",
       "96         https://novak-allison.com/  \n",
       "97              https://www.ross.com/  \n",
       "98               http://watkins.info/  \n",
       "99  http://www.hatfield-saunders.net/  \n",
       "\n",
       "[100 rows x 12 columns]"
      ]
     },
     "execution_count": 71,
     "metadata": {},
     "output_type": "execute_result"
    }
   ],
   "source": [
    "link"
   ]
  },
  {
   "cell_type": "code",
   "execution_count": 72,
   "id": "1930cea5-b36b-4480-a4e0-c3b6b90fe401",
   "metadata": {
    "tags": []
   },
   "outputs": [
    {
     "data": {
      "text/plain": [
       "Index(['Index', 'Customer Id', 'First Name', 'Last Name', 'Company', 'City',\n",
       "       'Country', 'Phone 1', 'Phone 2', 'Email', 'Subscription Date',\n",
       "       'Website'],\n",
       "      dtype='object')"
      ]
     },
     "execution_count": 72,
     "metadata": {},
     "output_type": "execute_result"
    }
   ],
   "source": [
    "link.columns"
   ]
  },
  {
   "cell_type": "code",
   "execution_count": 73,
   "id": "98a7320e-95bf-4f66-bdd5-a306f1998a5e",
   "metadata": {
    "tags": []
   },
   "outputs": [
    {
     "data": {
      "text/html": [
       "<div>\n",
       "<style scoped>\n",
       "    .dataframe tbody tr th:only-of-type {\n",
       "        vertical-align: middle;\n",
       "    }\n",
       "\n",
       "    .dataframe tbody tr th {\n",
       "        vertical-align: top;\n",
       "    }\n",
       "\n",
       "    .dataframe thead th {\n",
       "        text-align: right;\n",
       "    }\n",
       "</style>\n",
       "<table border=\"1\" class=\"dataframe\">\n",
       "  <thead>\n",
       "    <tr style=\"text-align: right;\">\n",
       "      <th></th>\n",
       "      <th>Customer Id</th>\n",
       "      <th>First Name</th>\n",
       "      <th>Last Name</th>\n",
       "      <th>Company</th>\n",
       "      <th>City</th>\n",
       "    </tr>\n",
       "  </thead>\n",
       "  <tbody>\n",
       "    <tr>\n",
       "      <th>0</th>\n",
       "      <td>DD37Cf93aecA6Dc</td>\n",
       "      <td>Sheryl</td>\n",
       "      <td>Baxter</td>\n",
       "      <td>Rasmussen Group</td>\n",
       "      <td>East Leonard</td>\n",
       "    </tr>\n",
       "    <tr>\n",
       "      <th>1</th>\n",
       "      <td>1Ef7b82A4CAAD10</td>\n",
       "      <td>Preston</td>\n",
       "      <td>Lozano</td>\n",
       "      <td>Vega-Gentry</td>\n",
       "      <td>East Jimmychester</td>\n",
       "    </tr>\n",
       "    <tr>\n",
       "      <th>2</th>\n",
       "      <td>6F94879bDAfE5a6</td>\n",
       "      <td>Roy</td>\n",
       "      <td>Berry</td>\n",
       "      <td>Murillo-Perry</td>\n",
       "      <td>Isabelborough</td>\n",
       "    </tr>\n",
       "    <tr>\n",
       "      <th>3</th>\n",
       "      <td>5Cef8BFA16c5e3c</td>\n",
       "      <td>Linda</td>\n",
       "      <td>Olsen</td>\n",
       "      <td>Dominguez, Mcmillan and Donovan</td>\n",
       "      <td>Bensonview</td>\n",
       "    </tr>\n",
       "    <tr>\n",
       "      <th>4</th>\n",
       "      <td>053d585Ab6b3159</td>\n",
       "      <td>Joanna</td>\n",
       "      <td>Bender</td>\n",
       "      <td>Martin, Lang and Andrade</td>\n",
       "      <td>West Priscilla</td>\n",
       "    </tr>\n",
       "    <tr>\n",
       "      <th>...</th>\n",
       "      <td>...</td>\n",
       "      <td>...</td>\n",
       "      <td>...</td>\n",
       "      <td>...</td>\n",
       "      <td>...</td>\n",
       "    </tr>\n",
       "    <tr>\n",
       "      <th>95</th>\n",
       "      <td>cb8E23e48d22Eae</td>\n",
       "      <td>Karl</td>\n",
       "      <td>Greer</td>\n",
       "      <td>Carey LLC</td>\n",
       "      <td>East Richard</td>\n",
       "    </tr>\n",
       "    <tr>\n",
       "      <th>96</th>\n",
       "      <td>CeD220bdAaCfaDf</td>\n",
       "      <td>Lynn</td>\n",
       "      <td>Atkinson</td>\n",
       "      <td>Ware, Burns and Oneal</td>\n",
       "      <td>New Bradview</td>\n",
       "    </tr>\n",
       "    <tr>\n",
       "      <th>97</th>\n",
       "      <td>28CDbC0dFe4b1Db</td>\n",
       "      <td>Fred</td>\n",
       "      <td>Guerra</td>\n",
       "      <td>Schmitt-Jones</td>\n",
       "      <td>Ortegaland</td>\n",
       "    </tr>\n",
       "    <tr>\n",
       "      <th>98</th>\n",
       "      <td>c23d1D9EE8DEB0A</td>\n",
       "      <td>Yvonne</td>\n",
       "      <td>Farmer</td>\n",
       "      <td>Fitzgerald-Harrell</td>\n",
       "      <td>Lake Elijahview</td>\n",
       "    </tr>\n",
       "    <tr>\n",
       "      <th>99</th>\n",
       "      <td>2354a0E336A91A1</td>\n",
       "      <td>Clarence</td>\n",
       "      <td>Haynes</td>\n",
       "      <td>Le, Nash and Cross</td>\n",
       "      <td>Judymouth</td>\n",
       "    </tr>\n",
       "  </tbody>\n",
       "</table>\n",
       "<p>100 rows × 5 columns</p>\n",
       "</div>"
      ],
      "text/plain": [
       "        Customer Id First Name Last Name                          Company  \\\n",
       "0   DD37Cf93aecA6Dc     Sheryl    Baxter                  Rasmussen Group   \n",
       "1   1Ef7b82A4CAAD10    Preston    Lozano                      Vega-Gentry   \n",
       "2   6F94879bDAfE5a6        Roy     Berry                    Murillo-Perry   \n",
       "3   5Cef8BFA16c5e3c      Linda     Olsen  Dominguez, Mcmillan and Donovan   \n",
       "4   053d585Ab6b3159     Joanna    Bender         Martin, Lang and Andrade   \n",
       "..              ...        ...       ...                              ...   \n",
       "95  cb8E23e48d22Eae       Karl     Greer                        Carey LLC   \n",
       "96  CeD220bdAaCfaDf       Lynn  Atkinson            Ware, Burns and Oneal   \n",
       "97  28CDbC0dFe4b1Db       Fred    Guerra                    Schmitt-Jones   \n",
       "98  c23d1D9EE8DEB0A     Yvonne    Farmer               Fitzgerald-Harrell   \n",
       "99  2354a0E336A91A1   Clarence    Haynes               Le, Nash and Cross   \n",
       "\n",
       "                 City  \n",
       "0        East Leonard  \n",
       "1   East Jimmychester  \n",
       "2       Isabelborough  \n",
       "3          Bensonview  \n",
       "4      West Priscilla  \n",
       "..                ...  \n",
       "95       East Richard  \n",
       "96       New Bradview  \n",
       "97         Ortegaland  \n",
       "98    Lake Elijahview  \n",
       "99          Judymouth  \n",
       "\n",
       "[100 rows x 5 columns]"
      ]
     },
     "execution_count": 73,
     "metadata": {},
     "output_type": "execute_result"
    }
   ],
   "source": [
    "link[['Customer Id', 'First Name', 'Last Name', 'Company', 'City']]"
   ]
  },
  {
   "cell_type": "code",
   "execution_count": 74,
   "id": "e1886ae2-7002-447c-a5d0-0c53c04b7476",
   "metadata": {
    "tags": []
   },
   "outputs": [],
   "source": [
    "link.to_csv(\"linkdld.csv\",index =False)"
   ]
  },
  {
   "cell_type": "code",
   "execution_count": 75,
   "id": "032fedac-51c9-48ca-9678-652829150bf6",
   "metadata": {
    "tags": []
   },
   "outputs": [
    {
     "data": {
      "text/plain": [
       "Index(['Index', 'Customer Id', 'First Name', 'Last Name', 'Company', 'City',\n",
       "       'Country', 'Phone 1', 'Phone 2', 'Email', 'Subscription Date',\n",
       "       'Website'],\n",
       "      dtype='object')"
      ]
     },
     "execution_count": 75,
     "metadata": {},
     "output_type": "execute_result"
    }
   ],
   "source": [
    "df.columns"
   ]
  },
  {
   "cell_type": "code",
   "execution_count": 76,
   "id": "9803f364-2715-4227-bd52-8fee5de7edc9",
   "metadata": {
    "tags": []
   },
   "outputs": [
    {
     "data": {
      "text/plain": [
       "Index                 int64\n",
       "Customer Id          object\n",
       "First Name           object\n",
       "Last Name            object\n",
       "Company              object\n",
       "City                 object\n",
       "Country              object\n",
       "Phone 1              object\n",
       "Phone 2              object\n",
       "Email                object\n",
       "Subscription Date    object\n",
       "Website              object\n",
       "dtype: object"
      ]
     },
     "execution_count": 76,
     "metadata": {},
     "output_type": "execute_result"
    }
   ],
   "source": [
    "df.dtypes"
   ]
  },
  {
   "cell_type": "code",
   "execution_count": 77,
   "id": "ef27cb12-90c6-41f8-a5a1-bb46ba758e6c",
   "metadata": {
    "tags": []
   },
   "outputs": [],
   "source": [
    "titan = pd.read_csv(\"https://gist.githubusercontent.com/fyyying/4aa5b471860321d7b47fd881898162b7/raw/6907bb3a38bfbb6fccf3a8b1edfb90e39714d14f/titanic_dataset.csv\")"
   ]
  },
  {
   "cell_type": "code",
   "execution_count": 78,
   "id": "4e5c461d-a6a6-4222-923f-51a85e6985b1",
   "metadata": {
    "tags": []
   },
   "outputs": [
    {
     "data": {
      "text/html": [
       "<div>\n",
       "<style scoped>\n",
       "    .dataframe tbody tr th:only-of-type {\n",
       "        vertical-align: middle;\n",
       "    }\n",
       "\n",
       "    .dataframe tbody tr th {\n",
       "        vertical-align: top;\n",
       "    }\n",
       "\n",
       "    .dataframe thead th {\n",
       "        text-align: right;\n",
       "    }\n",
       "</style>\n",
       "<table border=\"1\" class=\"dataframe\">\n",
       "  <thead>\n",
       "    <tr style=\"text-align: right;\">\n",
       "      <th></th>\n",
       "      <th>PassengerId</th>\n",
       "      <th>Survived</th>\n",
       "      <th>Pclass</th>\n",
       "      <th>Name</th>\n",
       "      <th>Sex</th>\n",
       "      <th>Age</th>\n",
       "      <th>SibSp</th>\n",
       "      <th>Parch</th>\n",
       "      <th>Ticket</th>\n",
       "      <th>Fare</th>\n",
       "      <th>Cabin</th>\n",
       "      <th>Embarked</th>\n",
       "    </tr>\n",
       "  </thead>\n",
       "  <tbody>\n",
       "    <tr>\n",
       "      <th>0</th>\n",
       "      <td>1</td>\n",
       "      <td>0</td>\n",
       "      <td>3</td>\n",
       "      <td>Braund, Mr. Owen Harris</td>\n",
       "      <td>male</td>\n",
       "      <td>22.0</td>\n",
       "      <td>1</td>\n",
       "      <td>0</td>\n",
       "      <td>A/5 21171</td>\n",
       "      <td>7.2500</td>\n",
       "      <td>NaN</td>\n",
       "      <td>S</td>\n",
       "    </tr>\n",
       "    <tr>\n",
       "      <th>1</th>\n",
       "      <td>2</td>\n",
       "      <td>1</td>\n",
       "      <td>1</td>\n",
       "      <td>Cumings, Mrs. John Bradley (Florence Briggs Th...</td>\n",
       "      <td>female</td>\n",
       "      <td>38.0</td>\n",
       "      <td>1</td>\n",
       "      <td>0</td>\n",
       "      <td>PC 17599</td>\n",
       "      <td>71.2833</td>\n",
       "      <td>C85</td>\n",
       "      <td>C</td>\n",
       "    </tr>\n",
       "    <tr>\n",
       "      <th>2</th>\n",
       "      <td>3</td>\n",
       "      <td>1</td>\n",
       "      <td>3</td>\n",
       "      <td>Heikkinen, Miss. Laina</td>\n",
       "      <td>female</td>\n",
       "      <td>26.0</td>\n",
       "      <td>0</td>\n",
       "      <td>0</td>\n",
       "      <td>STON/O2. 3101282</td>\n",
       "      <td>7.9250</td>\n",
       "      <td>NaN</td>\n",
       "      <td>S</td>\n",
       "    </tr>\n",
       "    <tr>\n",
       "      <th>3</th>\n",
       "      <td>4</td>\n",
       "      <td>1</td>\n",
       "      <td>1</td>\n",
       "      <td>Futrelle, Mrs. Jacques Heath (Lily May Peel)</td>\n",
       "      <td>female</td>\n",
       "      <td>35.0</td>\n",
       "      <td>1</td>\n",
       "      <td>0</td>\n",
       "      <td>113803</td>\n",
       "      <td>53.1000</td>\n",
       "      <td>C123</td>\n",
       "      <td>S</td>\n",
       "    </tr>\n",
       "    <tr>\n",
       "      <th>4</th>\n",
       "      <td>5</td>\n",
       "      <td>0</td>\n",
       "      <td>3</td>\n",
       "      <td>Allen, Mr. William Henry</td>\n",
       "      <td>male</td>\n",
       "      <td>35.0</td>\n",
       "      <td>0</td>\n",
       "      <td>0</td>\n",
       "      <td>373450</td>\n",
       "      <td>8.0500</td>\n",
       "      <td>NaN</td>\n",
       "      <td>S</td>\n",
       "    </tr>\n",
       "  </tbody>\n",
       "</table>\n",
       "</div>"
      ],
      "text/plain": [
       "   PassengerId  Survived  Pclass  \\\n",
       "0            1         0       3   \n",
       "1            2         1       1   \n",
       "2            3         1       3   \n",
       "3            4         1       1   \n",
       "4            5         0       3   \n",
       "\n",
       "                                                Name     Sex   Age  SibSp  \\\n",
       "0                            Braund, Mr. Owen Harris    male  22.0      1   \n",
       "1  Cumings, Mrs. John Bradley (Florence Briggs Th...  female  38.0      1   \n",
       "2                             Heikkinen, Miss. Laina  female  26.0      0   \n",
       "3       Futrelle, Mrs. Jacques Heath (Lily May Peel)  female  35.0      1   \n",
       "4                           Allen, Mr. William Henry    male  35.0      0   \n",
       "\n",
       "   Parch            Ticket     Fare Cabin Embarked  \n",
       "0      0         A/5 21171   7.2500   NaN        S  \n",
       "1      0          PC 17599  71.2833   C85        C  \n",
       "2      0  STON/O2. 3101282   7.9250   NaN        S  \n",
       "3      0            113803  53.1000  C123        S  \n",
       "4      0            373450   8.0500   NaN        S  "
      ]
     },
     "execution_count": 78,
     "metadata": {},
     "output_type": "execute_result"
    }
   ],
   "source": [
    "titan.head()\n"
   ]
  },
  {
   "cell_type": "code",
   "execution_count": 79,
   "id": "061ef5bc-f102-489d-9ce4-65bc36188242",
   "metadata": {
    "tags": []
   },
   "outputs": [
    {
     "data": {
      "text/plain": [
       "PassengerId      int64\n",
       "Survived         int64\n",
       "Pclass           int64\n",
       "Name            object\n",
       "Sex             object\n",
       "Age            float64\n",
       "SibSp            int64\n",
       "Parch            int64\n",
       "Ticket          object\n",
       "Fare           float64\n",
       "Cabin           object\n",
       "Embarked        object\n",
       "dtype: object"
      ]
     },
     "execution_count": 79,
     "metadata": {},
     "output_type": "execute_result"
    }
   ],
   "source": [
    "titan.dtypes"
   ]
  },
  {
   "cell_type": "code",
   "execution_count": 80,
   "id": "860418c5-ee42-48c8-b558-32d45b61ba72",
   "metadata": {
    "tags": []
   },
   "outputs": [
    {
     "data": {
      "text/plain": [
       "Age     float64\n",
       "Fare    float64\n",
       "dtype: object"
      ]
     },
     "execution_count": 80,
     "metadata": {},
     "output_type": "execute_result"
    }
   ],
   "source": [
    "titan.dtypes[titan.dtypes =='float64']"
   ]
  },
  {
   "cell_type": "code",
   "execution_count": 81,
   "id": "afa951a1-5727-4fb9-99bf-64dd9d6fc823",
   "metadata": {
    "tags": []
   },
   "outputs": [
    {
     "data": {
      "text/plain": [
       "Index(['Age', 'Fare'], dtype='object')"
      ]
     },
     "execution_count": 81,
     "metadata": {},
     "output_type": "execute_result"
    }
   ],
   "source": [
    "titan.dtypes[titan.dtypes =='float64'].index"
   ]
  },
  {
   "cell_type": "code",
   "execution_count": 82,
   "id": "dd1ac49c-4b74-4045-8174-7a2afe215911",
   "metadata": {
    "tags": []
   },
   "outputs": [],
   "source": [
    "titanint=titan[titan.dtypes[titan.dtypes =='float64'].index]"
   ]
  },
  {
   "cell_type": "code",
   "execution_count": 83,
   "id": "93293173-df19-4f13-baf0-f24cb5e62147",
   "metadata": {
    "tags": []
   },
   "outputs": [
    {
     "data": {
      "text/html": [
       "<div>\n",
       "<style scoped>\n",
       "    .dataframe tbody tr th:only-of-type {\n",
       "        vertical-align: middle;\n",
       "    }\n",
       "\n",
       "    .dataframe tbody tr th {\n",
       "        vertical-align: top;\n",
       "    }\n",
       "\n",
       "    .dataframe thead th {\n",
       "        text-align: right;\n",
       "    }\n",
       "</style>\n",
       "<table border=\"1\" class=\"dataframe\">\n",
       "  <thead>\n",
       "    <tr style=\"text-align: right;\">\n",
       "      <th></th>\n",
       "      <th>Age</th>\n",
       "      <th>Fare</th>\n",
       "    </tr>\n",
       "  </thead>\n",
       "  <tbody>\n",
       "    <tr>\n",
       "      <th>0</th>\n",
       "      <td>22.0</td>\n",
       "      <td>7.2500</td>\n",
       "    </tr>\n",
       "    <tr>\n",
       "      <th>1</th>\n",
       "      <td>38.0</td>\n",
       "      <td>71.2833</td>\n",
       "    </tr>\n",
       "    <tr>\n",
       "      <th>2</th>\n",
       "      <td>26.0</td>\n",
       "      <td>7.9250</td>\n",
       "    </tr>\n",
       "    <tr>\n",
       "      <th>3</th>\n",
       "      <td>35.0</td>\n",
       "      <td>53.1000</td>\n",
       "    </tr>\n",
       "    <tr>\n",
       "      <th>4</th>\n",
       "      <td>35.0</td>\n",
       "      <td>8.0500</td>\n",
       "    </tr>\n",
       "  </tbody>\n",
       "</table>\n",
       "</div>"
      ],
      "text/plain": [
       "    Age     Fare\n",
       "0  22.0   7.2500\n",
       "1  38.0  71.2833\n",
       "2  26.0   7.9250\n",
       "3  35.0  53.1000\n",
       "4  35.0   8.0500"
      ]
     },
     "execution_count": 83,
     "metadata": {},
     "output_type": "execute_result"
    }
   ],
   "source": [
    "titanint.head()"
   ]
  },
  {
   "cell_type": "code",
   "execution_count": null,
   "id": "63009042-7f11-4142-ab65-bc3783348bab",
   "metadata": {},
   "outputs": [],
   "source": []
  }
 ],
 "metadata": {
  "kernelspec": {
   "display_name": "Python 3 (ipykernel)",
   "language": "python",
   "name": "python3"
  },
  "language_info": {
   "codemirror_mode": {
    "name": "ipython",
    "version": 3
   },
   "file_extension": ".py",
   "mimetype": "text/x-python",
   "name": "python",
   "nbconvert_exporter": "python",
   "pygments_lexer": "ipython3",
   "version": "3.11.5"
  }
 },
 "nbformat": 4,
 "nbformat_minor": 5
}
