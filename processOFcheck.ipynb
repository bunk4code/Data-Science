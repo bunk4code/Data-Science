{
 "cells": [
  {
   "cell_type": "markdown",
   "id": "c75cd747-34cf-4d3e-85f8-fa0114e948d6",
   "metadata": {},
   "source": [
    "## Data Checks to perform\n",
    "##### Check Missing values\n",
    "##### Check Duplicates\n",
    "##### Check data type\n",
    "##### Check  the number of unique values of each column\n",
    "##### check statistics of dataset\n",
    "##### check various categories present in the different  categorical  column"
   ]
  },
  {
   "cell_type": "markdown",
   "id": "4224a4d6-86d2-413d-bcef-ba7865ede522",
   "metadata": {},
   "source": [
    "# Modeling the Data\n",
    "###### Reading the data\n",
    "###### EDA,Feature_Engnierring\n",
    "###### Divide our dataset into independent and dependent features\n",
    "###### Further dicide the dataset into train and test \n",
    "###### Standard Scaling on the train and test data\n"
   ]
  },
  {
   "cell_type": "code",
   "execution_count": null,
   "id": "3258e559-0f6d-4a80-afa1-bd9f4bc0fe63",
   "metadata": {},
   "outputs": [],
   "source": []
  }
 ],
 "metadata": {
  "kernelspec": {
   "display_name": "Python 3 (ipykernel)",
   "language": "python",
   "name": "python3"
  },
  "language_info": {
   "codemirror_mode": {
    "name": "ipython",
    "version": 3
   },
   "file_extension": ".py",
   "mimetype": "text/x-python",
   "name": "python",
   "nbconvert_exporter": "python",
   "pygments_lexer": "ipython3",
   "version": "3.11.5"
  }
 },
 "nbformat": 4,
 "nbformat_minor": 5
}
