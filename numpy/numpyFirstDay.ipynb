{
 "cells": [
  {
   "cell_type": "code",
   "execution_count": 221,
   "id": "4232e8e9-c67f-4688-ba1d-8bf181d623ab",
   "metadata": {},
   "outputs": [],
   "source": [
    "import numpy as np\n"
   ]
  },
  {
   "cell_type": "code",
   "execution_count": 222,
   "id": "3d1909b6-6f19-4a53-8f96-6a077083566a",
   "metadata": {},
   "outputs": [],
   "source": [
    "l = [1,2,3,4]"
   ]
  },
  {
   "cell_type": "code",
   "execution_count": 223,
   "id": "61045fcb-8f65-4909-b035-ae282ad2b447",
   "metadata": {},
   "outputs": [],
   "source": [
    "first = np.array(l)"
   ]
  },
  {
   "cell_type": "code",
   "execution_count": 224,
   "id": "0039a3e1-dc34-4237-9530-08e8b098a532",
   "metadata": {},
   "outputs": [
    {
     "data": {
      "text/plain": [
       "array([1, 2, 3, 4])"
      ]
     },
     "execution_count": 224,
     "metadata": {},
     "output_type": "execute_result"
    }
   ],
   "source": [
    "first"
   ]
  },
  {
   "cell_type": "code",
   "execution_count": 225,
   "id": "bdd7df07-7ffe-4d1a-ada6-e72439cedc39",
   "metadata": {},
   "outputs": [
    {
     "data": {
      "text/plain": [
       "numpy.ndarray"
      ]
     },
     "execution_count": 225,
     "metadata": {},
     "output_type": "execute_result"
    }
   ],
   "source": [
    "type(first)"
   ]
  },
  {
   "cell_type": "code",
   "execution_count": 226,
   "id": "9d54c014-d1f9-4dee-a606-eed18dba9728",
   "metadata": {},
   "outputs": [],
   "source": [
    "b = np.array([[1,2],[3,4]])"
   ]
  },
  {
   "cell_type": "code",
   "execution_count": 227,
   "id": "70a88aea-383a-453b-b02a-5d4b7abc3df5",
   "metadata": {},
   "outputs": [
    {
     "data": {
      "text/plain": [
       "numpy.ndarray"
      ]
     },
     "execution_count": 227,
     "metadata": {},
     "output_type": "execute_result"
    }
   ],
   "source": [
    "type(b)"
   ]
  },
  {
   "cell_type": "code",
   "execution_count": 228,
   "id": "eca9d23e-a397-4099-899b-64b26d5ad0e7",
   "metadata": {},
   "outputs": [
    {
     "data": {
      "text/plain": [
       "(2, 4)"
      ]
     },
     "execution_count": 228,
     "metadata": {},
     "output_type": "execute_result"
    }
   ],
   "source": [
    "b[0,1],b[1,1]"
   ]
  },
  {
   "cell_type": "code",
   "execution_count": 229,
   "id": "1905c233-331e-4dc9-b06f-2e3a4e5be83d",
   "metadata": {},
   "outputs": [
    {
     "data": {
      "text/plain": [
       "array([1, 2, 3, 4])"
      ]
     },
     "execution_count": 229,
     "metadata": {},
     "output_type": "execute_result"
    }
   ],
   "source": [
    "np.asarray(l)"
   ]
  },
  {
   "cell_type": "code",
   "execution_count": 230,
   "id": "95ae00ea-0272-4487-adb8-51c67c7a348c",
   "metadata": {},
   "outputs": [
    {
     "data": {
      "text/plain": [
       "array([1, 2, 3, 4])"
      ]
     },
     "execution_count": 230,
     "metadata": {},
     "output_type": "execute_result"
    }
   ],
   "source": [
    "np.asanyarray(l)"
   ]
  },
  {
   "cell_type": "code",
   "execution_count": 231,
   "id": "21718776-15c3-4397-9a8a-da9f991b4685",
   "metadata": {},
   "outputs": [
    {
     "data": {
      "text/plain": [
       "matrix([[1, 2, 3, 4]])"
      ]
     },
     "execution_count": 231,
     "metadata": {},
     "output_type": "execute_result"
    }
   ],
   "source": [
    "np.matrix(l)"
   ]
  },
  {
   "cell_type": "code",
   "execution_count": 232,
   "id": "a9cb063c-ab93-400f-9cdf-befdb9237038",
   "metadata": {},
   "outputs": [
    {
     "data": {
      "text/plain": [
       "2"
      ]
     },
     "execution_count": 232,
     "metadata": {},
     "output_type": "execute_result"
    }
   ],
   "source": [
    "# asanyarray change the iterable value to any type of array \n",
    "#where matrix is subset of array\n",
    "np.asanyarray(l)[1]\n"
   ]
  },
  {
   "cell_type": "markdown",
   "id": "d3c91140-de9a-4646-8fe9-e24f9967243e",
   "metadata": {},
   "source": [
    "## shallow copy in numpy"
   ]
  },
  {
   "cell_type": "code",
   "execution_count": 233,
   "id": "852f1bda-a6a5-4c52-8439-b1f87fd64aae",
   "metadata": {},
   "outputs": [],
   "source": [
    "asany_array = np.asanyarray(l)\n",
    "new_array = asany_array"
   ]
  },
  {
   "cell_type": "code",
   "execution_count": 234,
   "id": "bc0cbcaf-9287-4df7-bf36-1a96e976f61b",
   "metadata": {},
   "outputs": [
    {
     "data": {
      "text/plain": [
       "array([1, 2, 3, 4])"
      ]
     },
     "execution_count": 234,
     "metadata": {},
     "output_type": "execute_result"
    }
   ],
   "source": [
    "asany_array"
   ]
  },
  {
   "cell_type": "code",
   "execution_count": 235,
   "id": "a3cca875-d7ee-4796-b7a8-fcf4c6ddf34d",
   "metadata": {},
   "outputs": [
    {
     "data": {
      "text/plain": [
       "array([1, 2, 3, 4])"
      ]
     },
     "execution_count": 235,
     "metadata": {},
     "output_type": "execute_result"
    }
   ],
   "source": [
    "new_array"
   ]
  },
  {
   "cell_type": "code",
   "execution_count": 236,
   "id": "490b70a3-1fb9-466f-8d8a-9bb8744f496d",
   "metadata": {},
   "outputs": [],
   "source": [
    "asany_array[1] = 100"
   ]
  },
  {
   "cell_type": "code",
   "execution_count": 237,
   "id": "f18387d3-a79d-48f6-8d31-ce45359a2d0b",
   "metadata": {},
   "outputs": [
    {
     "data": {
      "text/plain": [
       "array([  1, 100,   3,   4])"
      ]
     },
     "execution_count": 237,
     "metadata": {},
     "output_type": "execute_result"
    }
   ],
   "source": [
    "new_array"
   ]
  },
  {
   "cell_type": "code",
   "execution_count": 238,
   "id": "171b94e5-7486-40c7-b77e-f24f220b959f",
   "metadata": {},
   "outputs": [],
   "source": [
    "new_array[2] = 300"
   ]
  },
  {
   "cell_type": "code",
   "execution_count": 239,
   "id": "2b2ebf76-ffbc-4595-861d-5953752550e0",
   "metadata": {},
   "outputs": [
    {
     "data": {
      "text/plain": [
       "array([  1, 100, 300,   4])"
      ]
     },
     "execution_count": 239,
     "metadata": {},
     "output_type": "execute_result"
    }
   ],
   "source": [
    "asany_array"
   ]
  },
  {
   "cell_type": "markdown",
   "id": "bd5302fc-de50-443c-bf94-ae6940f82228",
   "metadata": {},
   "source": [
    "## from() family for converting to an array"
   ]
  },
  {
   "cell_type": "code",
   "execution_count": 240,
   "id": "b219cb9d-6e4b-4947-9c98-88b1dd8472bd",
   "metadata": {},
   "outputs": [],
   "source": [
    "#from function used to make an nd array where i,j are row and columna use to find that i and j are equal or not \n",
    "# then result should be kept by indexes\n",
    "#         coulmn\n",
    "#          0   1    2\n",
    "#      0   f   f    f\n",
    "# rown 1   f   t    f\n",
    "#      2   f   f    t"
   ]
  },
  {
   "cell_type": "code",
   "execution_count": 241,
   "id": "adbb5dc1-d1e1-4f92-ac1d-978520a380ab",
   "metadata": {},
   "outputs": [
    {
     "data": {
      "text/plain": [
       "array([[ True, False, False],\n",
       "       [False,  True, False],\n",
       "       [False, False,  True]])"
      ]
     },
     "execution_count": 241,
     "metadata": {},
     "output_type": "execute_result"
    }
   ],
   "source": [
    "np.fromfunction(lambda i,j : i ==j,(3,3),dtype='float')"
   ]
  },
  {
   "cell_type": "code",
   "execution_count": 242,
   "id": "27d21171-c26b-46c9-aa48-e030a842d3c1",
   "metadata": {},
   "outputs": [
    {
     "data": {
      "text/plain": [
       "array([123., 456., 789.])"
      ]
     },
     "execution_count": 242,
     "metadata": {},
     "output_type": "execute_result"
    }
   ],
   "source": [
    "np.fromstring(\" 123 456 789\",sep = ' ')"
   ]
  },
  {
   "cell_type": "code",
   "execution_count": 243,
   "id": "4d26b104-d688-4c59-99f4-a959c368ea27",
   "metadata": {},
   "outputs": [],
   "source": [
    "iterable_value = (i+10 for i in range(5))"
   ]
  },
  {
   "cell_type": "code",
   "execution_count": 244,
   "id": "84b6eae2-50ac-4c05-8d5f-e7d1e5f5526d",
   "metadata": {},
   "outputs": [
    {
     "data": {
      "text/plain": [
       "array([10., 11., 12., 13., 14.])"
      ]
     },
     "execution_count": 244,
     "metadata": {},
     "output_type": "execute_result"
    }
   ],
   "source": [
    "np.fromiter(iterable_value,'float')"
   ]
  },
  {
   "cell_type": "markdown",
   "id": "9cf6bba1-be89-4e14-b8f5-2042ce52e75d",
   "metadata": {},
   "source": [
    "## Numpy = Datatypes"
   ]
  },
  {
   "cell_type": "code",
   "execution_count": 245,
   "id": "9e4798eb-4546-4891-950d-30c3ad0cc18f",
   "metadata": {},
   "outputs": [],
   "source": [
    "ar = np.array([1,2,3,4,5,6])\n",
    "ar2  = np.array([[1,2,3],[4,9,8]])"
   ]
  },
  {
   "cell_type": "markdown",
   "id": "00604d24-dbaa-40ba-b75b-1749312f99ce",
   "metadata": {},
   "source": [
    "#### shape = (row,column ) , ndim = dimesion of array , size = count elements in array"
   ]
  },
  {
   "cell_type": "code",
   "execution_count": 246,
   "id": "6049ba81-7521-437f-a908-7d51e8a053ec",
   "metadata": {},
   "outputs": [
    {
     "data": {
      "text/plain": [
       "(6,)"
      ]
     },
     "execution_count": 246,
     "metadata": {},
     "output_type": "execute_result"
    }
   ],
   "source": [
    "ar.shape "
   ]
  },
  {
   "cell_type": "code",
   "execution_count": 247,
   "id": "0accc40d-0418-402a-a4d2-162da1d0056a",
   "metadata": {},
   "outputs": [
    {
     "data": {
      "text/plain": [
       "6"
      ]
     },
     "execution_count": 247,
     "metadata": {},
     "output_type": "execute_result"
    }
   ],
   "source": [
    "ar.size"
   ]
  },
  {
   "cell_type": "code",
   "execution_count": 248,
   "id": "32e7746c-0b66-4778-a57a-afc6748db7ec",
   "metadata": {},
   "outputs": [
    {
     "data": {
      "text/plain": [
       "1"
      ]
     },
     "execution_count": 248,
     "metadata": {},
     "output_type": "execute_result"
    }
   ],
   "source": [
    "ar.ndim"
   ]
  },
  {
   "cell_type": "code",
   "execution_count": 249,
   "id": "2ab67fe4-da8b-4552-8adf-3257e77ee67b",
   "metadata": {},
   "outputs": [
    {
     "data": {
      "text/plain": [
       "(2, 3)"
      ]
     },
     "execution_count": 249,
     "metadata": {},
     "output_type": "execute_result"
    }
   ],
   "source": [
    "ar2.shape"
   ]
  },
  {
   "cell_type": "code",
   "execution_count": 250,
   "id": "f2552608-390f-4ce1-8275-3fa0d4514293",
   "metadata": {},
   "outputs": [
    {
     "data": {
      "text/plain": [
       "6"
      ]
     },
     "execution_count": 250,
     "metadata": {},
     "output_type": "execute_result"
    }
   ],
   "source": [
    "ar2.size"
   ]
  },
  {
   "cell_type": "code",
   "execution_count": 251,
   "id": "8af596ce-7026-4bb3-980a-150f74bb370f",
   "metadata": {},
   "outputs": [
    {
     "data": {
      "text/plain": [
       "2"
      ]
     },
     "execution_count": 251,
     "metadata": {},
     "output_type": "execute_result"
    }
   ],
   "source": [
    "ar2.ndim"
   ]
  },
  {
   "cell_type": "markdown",
   "id": "d2979e62-f3ca-43b0-8d12-1b0bc6ea8ec6",
   "metadata": {},
   "source": [
    "## Py range() VS Numpy arange()"
   ]
  },
  {
   "cell_type": "code",
   "execution_count": 252,
   "id": "37f1afde-2a1b-4d59-ba20-780cffa92c9f",
   "metadata": {},
   "outputs": [],
   "source": [
    "## range funtion could not generate floating value and jump with fraction values"
   ]
  },
  {
   "cell_type": "code",
   "execution_count": 253,
   "id": "dac81f1b-357b-4363-91cd-1162209d7bef",
   "metadata": {},
   "outputs": [
    {
     "data": {
      "text/plain": [
       "[0, 1, 2, 3, 4]"
      ]
     },
     "execution_count": 253,
     "metadata": {},
     "output_type": "execute_result"
    }
   ],
   "source": [
    "list(range(0,5))"
   ]
  },
  {
   "cell_type": "code",
   "execution_count": 254,
   "id": "92f00e24-401e-4e5e-894f-faabd66a1fd2",
   "metadata": {},
   "outputs": [
    {
     "data": {
      "text/plain": [
       "[2.4, 3.7, 5.0, 6.300000000000001, 7.600000000000001]"
      ]
     },
     "execution_count": 254,
     "metadata": {},
     "output_type": "execute_result"
    }
   ],
   "source": [
    "list(np.arange(2.4,8.9,1.3))"
   ]
  },
  {
   "cell_type": "markdown",
   "id": "c023e77e-3b6f-4e1c-bf31-b38a65dfaa7a",
   "metadata": {},
   "source": [
    "### zeors, ones , empty, eye= identity array,linspace , logspace"
   ]
  },
  {
   "cell_type": "code",
   "execution_count": 255,
   "id": "931def0d-44ef-45a8-9a55-f9e29daa145b",
   "metadata": {},
   "outputs": [
    {
     "data": {
      "text/plain": [
       "array([0., 0., 0., 0.])"
      ]
     },
     "execution_count": 255,
     "metadata": {},
     "output_type": "execute_result"
    }
   ],
   "source": [
    "np.zeros(4)"
   ]
  },
  {
   "cell_type": "code",
   "execution_count": 256,
   "id": "a36499d0-3f02-4877-afed-13fdb90fa1b2",
   "metadata": {},
   "outputs": [
    {
     "data": {
      "text/plain": [
       "array([[0., 0., 0.],\n",
       "       [0., 0., 0.]])"
      ]
     },
     "execution_count": 256,
     "metadata": {},
     "output_type": "execute_result"
    }
   ],
   "source": [
    "np.zeros((2,3))"
   ]
  },
  {
   "cell_type": "code",
   "execution_count": 257,
   "id": "cbb2dbd2-85f5-4e13-9ccf-137913e355c9",
   "metadata": {},
   "outputs": [],
   "source": [
    "z_3d=np.zeros((3,4,5))"
   ]
  },
  {
   "cell_type": "code",
   "execution_count": 258,
   "id": "24b72f02-eb3d-41d9-882c-e68f2238e48b",
   "metadata": {},
   "outputs": [
    {
     "data": {
      "text/plain": [
       "array([[[0., 0., 0., 0., 0.],\n",
       "        [0., 0., 0., 0., 0.],\n",
       "        [0., 0., 0., 0., 0.],\n",
       "        [0., 0., 0., 0., 0.]],\n",
       "\n",
       "       [[0., 0., 0., 0., 0.],\n",
       "        [0., 0., 0., 0., 0.],\n",
       "        [0., 0., 0., 0., 0.],\n",
       "        [0., 0., 0., 0., 0.]],\n",
       "\n",
       "       [[0., 0., 0., 0., 0.],\n",
       "        [0., 0., 0., 0., 0.],\n",
       "        [0., 0., 0., 0., 0.],\n",
       "        [0., 0., 0., 0., 0.]]])"
      ]
     },
     "execution_count": 258,
     "metadata": {},
     "output_type": "execute_result"
    }
   ],
   "source": [
    "z_3d"
   ]
  },
  {
   "cell_type": "code",
   "execution_count": 259,
   "id": "25a14939-1b90-48f7-9994-d4b9d9874e55",
   "metadata": {},
   "outputs": [
    {
     "data": {
      "text/plain": [
       "array([[[5., 5., 5., 5., 5.],\n",
       "        [5., 5., 5., 5., 5.],\n",
       "        [5., 5., 5., 5., 5.],\n",
       "        [5., 5., 5., 5., 5.]],\n",
       "\n",
       "       [[5., 5., 5., 5., 5.],\n",
       "        [5., 5., 5., 5., 5.],\n",
       "        [5., 5., 5., 5., 5.],\n",
       "        [5., 5., 5., 5., 5.]],\n",
       "\n",
       "       [[5., 5., 5., 5., 5.],\n",
       "        [5., 5., 5., 5., 5.],\n",
       "        [5., 5., 5., 5., 5.],\n",
       "        [5., 5., 5., 5., 5.]]])"
      ]
     },
     "execution_count": 259,
     "metadata": {},
     "output_type": "execute_result"
    }
   ],
   "source": [
    "z_3d+5"
   ]
  },
  {
   "cell_type": "code",
   "execution_count": 260,
   "id": "b0e56989-59a9-4dd8-a93e-3c0015805343",
   "metadata": {},
   "outputs": [
    {
     "data": {
      "text/plain": [
       "array([[1., 1., 1., 1.],\n",
       "       [1., 1., 1., 1.],\n",
       "       [1., 1., 1., 1.]])"
      ]
     },
     "execution_count": 260,
     "metadata": {},
     "output_type": "execute_result"
    }
   ],
   "source": [
    "np.ones((3,4))"
   ]
  },
  {
   "cell_type": "code",
   "execution_count": 261,
   "id": "75dfbaf3-ab7d-4c24-834a-e763cf9737dc",
   "metadata": {},
   "outputs": [
    {
     "data": {
      "text/plain": [
       "array([2.        , 2.35714286, 2.71428571, 3.07142857, 3.42857143,\n",
       "       3.78571429, 4.14285714, 4.5       , 4.85714286, 5.21428571,\n",
       "       5.57142857, 5.92857143, 6.28571429, 6.64285714, 7.        ])"
      ]
     },
     "execution_count": 261,
     "metadata": {},
     "output_type": "execute_result"
    }
   ],
   "source": [
    "np.linspace(2,7,15) # generates 15 data between 2 and 7"
   ]
  },
  {
   "cell_type": "code",
   "execution_count": 262,
   "id": "1304c606-afc7-475f-a7ed-0345e742a20c",
   "metadata": {},
   "outputs": [
    {
     "data": {
      "text/plain": [
       "array([  4.        ,   5.12354676,   6.56268285,   8.40605311,\n",
       "        10.76720154,  13.79156514,  17.66543222,  22.627417  ,\n",
       "        28.98315726,  37.12414036,  47.55181725,  60.90848979,\n",
       "        78.01687387,  99.93077532, 128.        ])"
      ]
     },
     "execution_count": 262,
     "metadata": {},
     "output_type": "execute_result"
    }
   ],
   "source": [
    "np.logspace(2,7,15,base=2)"
   ]
  },
  {
   "cell_type": "markdown",
   "id": "5f244373-55a2-4d96-8bea-1c773c97d11a",
   "metadata": {},
   "source": [
    "## Random function"
   ]
  },
  {
   "cell_type": "code",
   "execution_count": 263,
   "id": "31a76387-db5e-4b03-9f71-0b7c69ab5f86",
   "metadata": {},
   "outputs": [
    {
     "data": {
      "text/plain": [
       "10"
      ]
     },
     "execution_count": 263,
     "metadata": {},
     "output_type": "execute_result"
    }
   ],
   "source": [
    "np.random.randint(10,50)"
   ]
  },
  {
   "cell_type": "code",
   "execution_count": 264,
   "id": "2c4edf1f-06c7-4059-9e31-b5a9765296a4",
   "metadata": {},
   "outputs": [
    {
     "data": {
      "text/plain": [
       "array([80, 87, 66, 56])"
      ]
     },
     "execution_count": 264,
     "metadata": {},
     "output_type": "execute_result"
    }
   ],
   "source": [
    "np.random.randint(2,89,4) #(start,end,count)"
   ]
  },
  {
   "cell_type": "code",
   "execution_count": 265,
   "id": "8c61aa66-4580-4e08-8916-2c2ecf190da5",
   "metadata": {},
   "outputs": [
    {
     "data": {
      "text/plain": [
       "array([[ 0.30231481, -0.01381662,  1.39085846,  0.56437076, -1.37107363],\n",
       "       [-1.21109072, -0.38614246,  0.61558115,  0.01752308, -0.28361711],\n",
       "       [-0.70287607, -0.82532136,  0.74823623, -1.13480214, -2.06418854],\n",
       "       [-0.40752549, -0.49028293, -1.92661882,  0.29798139, -0.90693088]])"
      ]
     },
     "execution_count": 265,
     "metadata": {},
     "output_type": "execute_result"
    }
   ],
   "source": [
    "np.random.randn(4,5)# (row,column) when mean = 0 and SD = 1"
   ]
  },
  {
   "cell_type": "code",
   "execution_count": 266,
   "id": "74094b08-59c6-428f-9ea4-cd811370cc09",
   "metadata": {},
   "outputs": [
    {
     "data": {
      "text/plain": [
       "array([[0.1894553 , 0.24413831, 0.5972445 , 0.26149623],\n",
       "       [0.02828206, 0.06740971, 0.24429725, 0.58799977],\n",
       "       [0.95841223, 0.20290694, 0.95151661, 0.80681154]])"
      ]
     },
     "execution_count": 266,
     "metadata": {},
     "output_type": "execute_result"
    }
   ],
   "source": [
    "np.random.rand(3,4) #(row,column) random number generate"
   ]
  },
  {
   "cell_type": "code",
   "execution_count": 267,
   "id": "a004ed21-bff0-4b0d-b55b-1f0ef0b32d59",
   "metadata": {},
   "outputs": [
    {
     "data": {
      "text/plain": [
       "array([[15, 25, 18, 29],\n",
       "       [19, 21, 29, 25],\n",
       "       [10, 17, 14, 25]])"
      ]
     },
     "execution_count": 267,
     "metadata": {},
     "output_type": "execute_result"
    }
   ],
   "source": [
    "np.random.randint(10,30,(3,4))"
   ]
  },
  {
   "cell_type": "code",
   "execution_count": 268,
   "id": "fa7853c8-1634-40ce-bd86-f67dc905bfcf",
   "metadata": {},
   "outputs": [],
   "source": [
    "arr = np.random.rand(3,4)"
   ]
  },
  {
   "cell_type": "code",
   "execution_count": 269,
   "id": "e9dfff81-1cd9-4d1c-bccd-53530b86268a",
   "metadata": {},
   "outputs": [
    {
     "data": {
      "text/plain": [
       "array([[0.84133898, 0.31596447, 0.69718487, 0.10583353],\n",
       "       [0.45408161, 0.89151651, 0.96078924, 0.27092211],\n",
       "       [0.12931137, 0.94381903, 0.53535523, 0.60962385]])"
      ]
     },
     "execution_count": 269,
     "metadata": {},
     "output_type": "execute_result"
    }
   ],
   "source": [
    "arr"
   ]
  },
  {
   "cell_type": "code",
   "execution_count": 270,
   "id": "f4a50eb0-41b2-49dd-83c8-69df94dbc507",
   "metadata": {},
   "outputs": [
    {
     "data": {
      "text/plain": [
       "array([[0.84133898, 0.31596447],\n",
       "       [0.69718487, 0.10583353],\n",
       "       [0.45408161, 0.89151651],\n",
       "       [0.96078924, 0.27092211],\n",
       "       [0.12931137, 0.94381903],\n",
       "       [0.53535523, 0.60962385]])"
      ]
     },
     "execution_count": 270,
     "metadata": {},
     "output_type": "execute_result"
    }
   ],
   "source": [
    "arr.reshape(6,2) # element should be multiple of 12 because of arangement"
   ]
  },
  {
   "cell_type": "code",
   "execution_count": 271,
   "id": "e528a0e7-414d-4206-a826-fc5f478556a7",
   "metadata": {},
   "outputs": [],
   "source": [
    "#accessing the data"
   ]
  },
  {
   "cell_type": "code",
   "execution_count": 272,
   "id": "9d9cf7f0-7f1b-47c5-be1c-66dc78a80794",
   "metadata": {},
   "outputs": [],
   "source": [
    "arr2 = np.random.randint(10,100,(3,4))"
   ]
  },
  {
   "cell_type": "code",
   "execution_count": 273,
   "id": "cce4aa7e-7fe9-4783-a8b3-3f4cad4d96ad",
   "metadata": {},
   "outputs": [
    {
     "data": {
      "text/plain": [
       "array([[29, 71, 68, 96],\n",
       "       [75, 51, 13, 84],\n",
       "       [32, 90, 29, 95]])"
      ]
     },
     "execution_count": 273,
     "metadata": {},
     "output_type": "execute_result"
    }
   ],
   "source": [
    "arr2"
   ]
  },
  {
   "cell_type": "code",
   "execution_count": 274,
   "id": "a0a73752-d583-4339-9f3f-9902c1e830b6",
   "metadata": {},
   "outputs": [
    {
     "data": {
      "text/plain": [
       "array([75, 51, 13, 84])"
      ]
     },
     "execution_count": 274,
     "metadata": {},
     "output_type": "execute_result"
    }
   ],
   "source": [
    "arr2[1]"
   ]
  },
  {
   "cell_type": "code",
   "execution_count": 275,
   "id": "e5bbddba-13e2-4f16-9be7-92f9617fe113",
   "metadata": {},
   "outputs": [
    {
     "data": {
      "text/plain": [
       "13"
      ]
     },
     "execution_count": 275,
     "metadata": {},
     "output_type": "execute_result"
    }
   ],
   "source": [
    "arr2[1,2]"
   ]
  },
  {
   "cell_type": "code",
   "execution_count": 276,
   "id": "d147b57d-33b8-43ee-944a-c4915103b8b7",
   "metadata": {},
   "outputs": [
    {
     "data": {
      "text/plain": [
       "array([[51, 13],\n",
       "       [90, 29]])"
      ]
     },
     "execution_count": 276,
     "metadata": {},
     "output_type": "execute_result"
    }
   ],
   "source": [
    "arr2[1:3,1:3]"
   ]
  },
  {
   "cell_type": "markdown",
   "id": "7eded3f8-9023-4ea4-9148-00aad7b45f11",
   "metadata": {},
   "source": [
    "## Numpy - broadcasting"
   ]
  },
  {
   "cell_type": "code",
   "execution_count": 277,
   "id": "8f49cf81-f8db-497b-b59a-aecc30f17f0b",
   "metadata": {},
   "outputs": [],
   "source": [
    "arr_b = np.zeros((3,4))"
   ]
  },
  {
   "cell_type": "code",
   "execution_count": 278,
   "id": "1ef73e8d-a989-4f0a-9f3b-42d5867996d8",
   "metadata": {},
   "outputs": [
    {
     "data": {
      "text/plain": [
       "array([[0., 0., 0., 0.],\n",
       "       [0., 0., 0., 0.],\n",
       "       [0., 0., 0., 0.]])"
      ]
     },
     "execution_count": 278,
     "metadata": {},
     "output_type": "execute_result"
    }
   ],
   "source": [
    "arr_b"
   ]
  },
  {
   "cell_type": "code",
   "execution_count": 279,
   "id": "d9b93344-1b3d-44e1-a12c-aae0843287c7",
   "metadata": {},
   "outputs": [],
   "source": [
    "arr_l =  np.array([1,2,3,4])"
   ]
  },
  {
   "cell_type": "code",
   "execution_count": 280,
   "id": "99813ad4-250b-4f37-87a0-71f0684ba72f",
   "metadata": {},
   "outputs": [
    {
     "data": {
      "text/plain": [
       "(4,)"
      ]
     },
     "execution_count": 280,
     "metadata": {},
     "output_type": "execute_result"
    }
   ],
   "source": [
    "arr_l.shape"
   ]
  },
  {
   "cell_type": "code",
   "execution_count": 281,
   "id": "226a6f0d-4893-49e9-baa8-25e513de4310",
   "metadata": {},
   "outputs": [],
   "source": [
    "# how to add linear array to 2d array column wise"
   ]
  },
  {
   "cell_type": "code",
   "execution_count": 282,
   "id": "bb58d532-9682-4cec-bd6e-fc63a899c674",
   "metadata": {},
   "outputs": [],
   "source": [
    "arr_m =  np.array([[1,2,3,4]])"
   ]
  },
  {
   "cell_type": "code",
   "execution_count": 283,
   "id": "68c0ab8f-eb17-4502-bcca-895690197f56",
   "metadata": {},
   "outputs": [
    {
     "ename": "ValueError",
     "evalue": "operands could not be broadcast together with shapes (4,1) (3,4) ",
     "output_type": "error",
     "traceback": [
      "\u001b[1;31m---------------------------------------------------------------------------\u001b[0m",
      "\u001b[1;31mValueError\u001b[0m                                Traceback (most recent call last)",
      "Cell \u001b[1;32mIn[283], line 1\u001b[0m\n\u001b[1;32m----> 1\u001b[0m arr_m\u001b[38;5;241m.\u001b[39mT \u001b[38;5;241m+\u001b[39m arr_b\n",
      "\u001b[1;31mValueError\u001b[0m: operands could not be broadcast together with shapes (4,1) (3,4) "
     ]
    }
   ],
   "source": [
    "arr_m.T + arr_b"
   ]
  },
  {
   "cell_type": "code",
   "execution_count": null,
   "id": "c4a85876-a717-42a2-b490-34bbf380b3f1",
   "metadata": {},
   "outputs": [],
   "source": []
  },
  {
   "cell_type": "code",
   "execution_count": null,
   "id": "4a8dbbcf-ebb4-46bb-b916-a125b8165179",
   "metadata": {},
   "outputs": [],
   "source": []
  }
 ],
 "metadata": {
  "kernelspec": {
   "display_name": "Python 3 (ipykernel)",
   "language": "python",
   "name": "python3"
  },
  "language_info": {
   "codemirror_mode": {
    "name": "ipython",
    "version": 3
   },
   "file_extension": ".py",
   "mimetype": "text/x-python",
   "name": "python",
   "nbconvert_exporter": "python",
   "pygments_lexer": "ipython3",
   "version": "3.11.5"
  }
 },
 "nbformat": 4,
 "nbformat_minor": 5
}
