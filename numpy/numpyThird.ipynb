{
 "cells": [
  {
   "cell_type": "markdown",
   "id": "c3f50a17-52f6-49f0-bd97-f460c5d177ca",
   "metadata": {},
   "source": [
    "## Searching , Sorting and Filtering"
   ]
  },
  {
   "cell_type": "code",
   "execution_count": 1,
   "id": "b3304c50-7c8a-49a6-8aff-7e258fc2724b",
   "metadata": {},
   "outputs": [],
   "source": [
    "import numpy as np"
   ]
  },
  {
   "cell_type": "code",
   "execution_count": 4,
   "id": "eab1d0d9-3ee9-4564-b7b4-510d8ad723a2",
   "metadata": {},
   "outputs": [],
   "source": [
    "arr = np.array([4,8,34,90,23,9,20,40,20])"
   ]
  },
  {
   "cell_type": "code",
   "execution_count": 5,
   "id": "f078d864-d6fd-4d7c-8ccd-eb7cf470b34e",
   "metadata": {},
   "outputs": [
    {
     "data": {
      "text/plain": [
       "array([ 4,  8, 34, 90, 23,  9, 20, 40, 20])"
      ]
     },
     "execution_count": 5,
     "metadata": {},
     "output_type": "execute_result"
    }
   ],
   "source": [
    "arr"
   ]
  },
  {
   "cell_type": "code",
   "execution_count": 6,
   "id": "32e6fce1-fe31-4ca4-bdf3-7deaba29b887",
   "metadata": {},
   "outputs": [
    {
     "data": {
      "text/plain": [
       "array([ 4,  8,  9, 20, 20, 23, 34, 40, 90])"
      ]
     },
     "execution_count": 6,
     "metadata": {},
     "output_type": "execute_result"
    }
   ],
   "source": [
    "np.sort(arr)"
   ]
  },
  {
   "cell_type": "code",
   "execution_count": 7,
   "id": "f59e1641-1748-4e0a-bc66-e8fb1279f006",
   "metadata": {},
   "outputs": [
    {
     "data": {
      "text/plain": [
       "7"
      ]
     },
     "execution_count": 7,
     "metadata": {},
     "output_type": "execute_result"
    }
   ],
   "source": [
    "np.searchsorted(arr,24)"
   ]
  },
  {
   "cell_type": "code",
   "execution_count": 27,
   "id": "f03fc43d-5332-44d0-b321-fc1344e711bf",
   "metadata": {},
   "outputs": [
    {
     "data": {
      "text/plain": [
       "(array([0, 2, 3, 4, 6, 7, 8], dtype=int64),)"
      ]
     },
     "execution_count": 27,
     "metadata": {},
     "output_type": "execute_result"
    }
   ],
   "source": [
    "np.where(arr>15) # return index value where condition mets"
   ]
  },
  {
   "cell_type": "code",
   "execution_count": 28,
   "id": "fa325819-d4cf-45e8-b98b-3db95d026fee",
   "metadata": {},
   "outputs": [
    {
     "data": {
      "text/plain": [
       "array([30, 34, 90, 23, 20, 40, 20])"
      ]
     },
     "execution_count": 28,
     "metadata": {},
     "output_type": "execute_result"
    }
   ],
   "source": [
    "np.extract(arr>15,arr) #return value where condition mets"
   ]
  },
  {
   "cell_type": "code",
   "execution_count": 11,
   "id": "b8e5a567-112d-4228-9d0f-1eb77f0f437f",
   "metadata": {},
   "outputs": [
    {
     "data": {
      "text/plain": [
       "9"
      ]
     },
     "execution_count": 11,
     "metadata": {},
     "output_type": "execute_result"
    }
   ],
   "source": [
    "np.count_nonzero(arr)"
   ]
  },
  {
   "cell_type": "markdown",
   "id": "0d15d121-d495-48dd-93ec-ef619ce942b9",
   "metadata": {},
   "source": [
    "### copies and view"
   ]
  },
  {
   "cell_type": "code",
   "execution_count": 13,
   "id": "b9f9a119-76f9-408a-bc53-d9e9ad2b8ff7",
   "metadata": {},
   "outputs": [],
   "source": [
    "# deep copy ============> arr.copy\n",
    "# shallow copy ==============> arr.view"
   ]
  },
  {
   "cell_type": "code",
   "execution_count": 14,
   "id": "959f5c94-b533-4e0c-9688-b03365762fca",
   "metadata": {},
   "outputs": [
    {
     "data": {
      "text/plain": [
       "array([ 4,  8, 34, 90, 23,  9, 20, 40, 20])"
      ]
     },
     "execution_count": 14,
     "metadata": {},
     "output_type": "execute_result"
    }
   ],
   "source": [
    "# deep copy ============> arr.copy\n",
    "arr"
   ]
  },
  {
   "cell_type": "code",
   "execution_count": 15,
   "id": "0175ff7c-1c1e-442e-994b-5c05d7ab64ab",
   "metadata": {},
   "outputs": [],
   "source": [
    "a = arr.copy()"
   ]
  },
  {
   "cell_type": "code",
   "execution_count": 16,
   "id": "d1324847-b272-4872-85a6-d969715c77d1",
   "metadata": {},
   "outputs": [
    {
     "data": {
      "text/plain": [
       "array([ 4,  8, 34, 90, 23,  9, 20, 40, 20])"
      ]
     },
     "execution_count": 16,
     "metadata": {},
     "output_type": "execute_result"
    }
   ],
   "source": [
    "a"
   ]
  },
  {
   "cell_type": "code",
   "execution_count": 17,
   "id": "f36ce352-8590-4f9c-a986-e2f98975f6f1",
   "metadata": {},
   "outputs": [],
   "source": [
    "a[0] = 30"
   ]
  },
  {
   "cell_type": "code",
   "execution_count": 18,
   "id": "69faceca-130e-43e7-a913-3424fe07606e",
   "metadata": {},
   "outputs": [
    {
     "data": {
      "text/plain": [
       "array([30,  8, 34, 90, 23,  9, 20, 40, 20])"
      ]
     },
     "execution_count": 18,
     "metadata": {},
     "output_type": "execute_result"
    }
   ],
   "source": [
    "a"
   ]
  },
  {
   "cell_type": "code",
   "execution_count": 19,
   "id": "bdcfb932-8bb9-4235-876c-be29fd94fc2a",
   "metadata": {},
   "outputs": [
    {
     "data": {
      "text/plain": [
       "array([ 4,  8, 34, 90, 23,  9, 20, 40, 20])"
      ]
     },
     "execution_count": 19,
     "metadata": {},
     "output_type": "execute_result"
    }
   ],
   "source": [
    "arr"
   ]
  },
  {
   "cell_type": "code",
   "execution_count": 20,
   "id": "3a5fc6d9-5fb3-4d29-bf45-ab8141a2940f",
   "metadata": {},
   "outputs": [],
   "source": [
    "# shallow copy ==============> arr.view"
   ]
  },
  {
   "cell_type": "code",
   "execution_count": 21,
   "id": "313d36c4-e6eb-4d85-b7c1-1e7d6f918d44",
   "metadata": {},
   "outputs": [
    {
     "data": {
      "text/plain": [
       "array([ 4,  8, 34, 90, 23,  9, 20, 40, 20])"
      ]
     },
     "execution_count": 21,
     "metadata": {},
     "output_type": "execute_result"
    }
   ],
   "source": [
    "arr"
   ]
  },
  {
   "cell_type": "code",
   "execution_count": 22,
   "id": "f66c3ecf-bc82-4efc-acdc-2fc8482dab39",
   "metadata": {},
   "outputs": [],
   "source": [
    "b = arr"
   ]
  },
  {
   "cell_type": "code",
   "execution_count": 23,
   "id": "3e062e81-307e-4481-bbde-495430f6035b",
   "metadata": {},
   "outputs": [
    {
     "data": {
      "text/plain": [
       "array([ 4,  8, 34, 90, 23,  9, 20, 40, 20])"
      ]
     },
     "execution_count": 23,
     "metadata": {},
     "output_type": "execute_result"
    }
   ],
   "source": [
    "b"
   ]
  },
  {
   "cell_type": "code",
   "execution_count": 24,
   "id": "f8dcbb64-c2ea-47e6-9cd2-3ffd7cecc31e",
   "metadata": {},
   "outputs": [],
   "source": [
    "b[0] = 30"
   ]
  },
  {
   "cell_type": "code",
   "execution_count": 25,
   "id": "47f5f6b8-d52c-45f2-af9b-b74a44bffae1",
   "metadata": {},
   "outputs": [
    {
     "data": {
      "text/plain": [
       "array([30,  8, 34, 90, 23,  9, 20, 40, 20])"
      ]
     },
     "execution_count": 25,
     "metadata": {},
     "output_type": "execute_result"
    }
   ],
   "source": [
    "b"
   ]
  },
  {
   "cell_type": "code",
   "execution_count": 26,
   "id": "accdd482-4571-420a-8f4d-05cd68e4bb38",
   "metadata": {},
   "outputs": [
    {
     "data": {
      "text/plain": [
       "array([30,  8, 34, 90, 23,  9, 20, 40, 20])"
      ]
     },
     "execution_count": 26,
     "metadata": {},
     "output_type": "execute_result"
    }
   ],
   "source": [
    "arr"
   ]
  },
  {
   "cell_type": "markdown",
   "id": "2d176e70-7db9-40a9-9ebd-80230b5caa52",
   "metadata": {},
   "source": [
    "### Numpy - linear algebra"
   ]
  },
  {
   "cell_type": "code",
   "execution_count": 33,
   "id": "a0c33ace-de86-4f4e-befc-6e2eaf6fa2ca",
   "metadata": {},
   "outputs": [],
   "source": [
    "arr2 = np.array([[1,2],[4,5]])\n",
    "arr3 = np.array([[10,20],[30,40]])"
   ]
  },
  {
   "cell_type": "code",
   "execution_count": 34,
   "id": "ade6d8cf-5752-4856-9ed1-f46223ee1c41",
   "metadata": {},
   "outputs": [
    {
     "data": {
      "text/plain": [
       "array([[ 70, 100],\n",
       "       [190, 280]])"
      ]
     },
     "execution_count": 34,
     "metadata": {},
     "output_type": "execute_result"
    }
   ],
   "source": [
    "np.dot(arr2,arr3)"
   ]
  },
  {
   "cell_type": "code",
   "execution_count": 35,
   "id": "017bcb76-3600-4b8f-b6a5-58fad06e149a",
   "metadata": {},
   "outputs": [
    {
     "data": {
      "text/plain": [
       "array([[ 70, 100],\n",
       "       [190, 280]])"
      ]
     },
     "execution_count": 35,
     "metadata": {},
     "output_type": "execute_result"
    }
   ],
   "source": [
    "arr2@arr3"
   ]
  },
  {
   "cell_type": "code",
   "execution_count": null,
   "id": "8d967462-7197-4548-8d78-dd1efdc50b8f",
   "metadata": {},
   "outputs": [],
   "source": []
  }
 ],
 "metadata": {
  "kernelspec": {
   "display_name": "Python 3 (ipykernel)",
   "language": "python",
   "name": "python3"
  },
  "language_info": {
   "codemirror_mode": {
    "name": "ipython",
    "version": 3
   },
   "file_extension": ".py",
   "mimetype": "text/x-python",
   "name": "python",
   "nbconvert_exporter": "python",
   "pygments_lexer": "ipython3",
   "version": "3.11.5"
  }
 },
 "nbformat": 4,
 "nbformat_minor": 5
}
