{
 "cells": [
  {
   "cell_type": "code",
   "execution_count": 2,
   "id": "03f38ac6-8c36-4766-b717-1b919425946d",
   "metadata": {},
   "outputs": [],
   "source": [
    "import numpy as np"
   ]
  },
  {
   "cell_type": "code",
   "execution_count": 3,
   "id": "424d303e-c39f-46e2-a729-3135d54aeb22",
   "metadata": {},
   "outputs": [],
   "source": [
    "arr = np.array([1,2,3,4])"
   ]
  },
  {
   "cell_type": "code",
   "execution_count": 4,
   "id": "1b7c001c-d689-4ae8-b8bd-b5d0ef8e780a",
   "metadata": {},
   "outputs": [
    {
     "data": {
      "text/plain": [
       "array([1, 2, 3, 4])"
      ]
     },
     "execution_count": 4,
     "metadata": {},
     "output_type": "execute_result"
    }
   ],
   "source": [
    "arr"
   ]
  },
  {
   "cell_type": "code",
   "execution_count": 6,
   "id": "5213675a-a87c-443d-b24f-deb398ba7c2d",
   "metadata": {},
   "outputs": [],
   "source": [
    "arr_exp=np.expand_dims(arr,axis = 1)"
   ]
  },
  {
   "cell_type": "code",
   "execution_count": 7,
   "id": "12717fc0-a075-45f7-9cd7-2b5af411b80c",
   "metadata": {},
   "outputs": [
    {
     "data": {
      "text/plain": [
       "numpy.ndarray"
      ]
     },
     "execution_count": 7,
     "metadata": {},
     "output_type": "execute_result"
    }
   ],
   "source": [
    "type(arr_exp)"
   ]
  },
  {
   "cell_type": "code",
   "execution_count": 8,
   "id": "b8cf74b8-e08e-4e39-849a-bf90c2e4b391",
   "metadata": {},
   "outputs": [
    {
     "data": {
      "text/plain": [
       "2"
      ]
     },
     "execution_count": 8,
     "metadata": {},
     "output_type": "execute_result"
    }
   ],
   "source": [
    "arr_exp.ndim"
   ]
  },
  {
   "cell_type": "code",
   "execution_count": 17,
   "id": "cc9cb852-4c46-4686-8400-53b6a7677e92",
   "metadata": {},
   "outputs": [
    {
     "data": {
      "text/plain": [
       "array([1, 2, 3, 4])"
      ]
     },
     "execution_count": 17,
     "metadata": {},
     "output_type": "execute_result"
    }
   ],
   "source": [
    "arr_exp.flatten()"
   ]
  },
  {
   "cell_type": "code",
   "execution_count": 28,
   "id": "6d4adba8-6556-4fdf-be3e-f385f9b61d29",
   "metadata": {},
   "outputs": [
    {
     "data": {
      "text/plain": [
       "numpy.ndarray"
      ]
     },
     "execution_count": 28,
     "metadata": {},
     "output_type": "execute_result"
    }
   ],
   "source": [
    "type(arr_exp.flatten())"
   ]
  },
  {
   "cell_type": "code",
   "execution_count": 18,
   "id": "a0d42472-3e1d-4ecc-98dd-090e7c9e63c3",
   "metadata": {},
   "outputs": [
    {
     "data": {
      "text/plain": [
       "1"
      ]
     },
     "execution_count": 18,
     "metadata": {},
     "output_type": "execute_result"
    }
   ],
   "source": [
    "arr.flatten().ndim"
   ]
  },
  {
   "cell_type": "code",
   "execution_count": 19,
   "id": "8fcb9e8f-b00e-4fcd-8693-5e5ed9a09e48",
   "metadata": {},
   "outputs": [],
   "source": [
    "arr2 = np.array([10,20,30,40])"
   ]
  },
  {
   "cell_type": "code",
   "execution_count": 20,
   "id": "f12e1e06-224d-4414-a55e-225a8b37f3fc",
   "metadata": {},
   "outputs": [
    {
     "data": {
      "text/plain": [
       "1"
      ]
     },
     "execution_count": 20,
     "metadata": {},
     "output_type": "execute_result"
    }
   ],
   "source": [
    "arr2.ndim"
   ]
  },
  {
   "cell_type": "code",
   "execution_count": 22,
   "id": "c8f3efd5-0b08-469e-a294-b503af52bcb4",
   "metadata": {},
   "outputs": [],
   "source": [
    "arr2_exp = np.expand_dims(arr2,axis = 1)"
   ]
  },
  {
   "cell_type": "code",
   "execution_count": 23,
   "id": "643abf5f-67e9-4803-a0ec-f6e2e53ddfbd",
   "metadata": {},
   "outputs": [
    {
     "data": {
      "text/plain": [
       "array([[10],\n",
       "       [20],\n",
       "       [30],\n",
       "       [40]])"
      ]
     },
     "execution_count": 23,
     "metadata": {},
     "output_type": "execute_result"
    }
   ],
   "source": [
    "arr2_exp"
   ]
  },
  {
   "cell_type": "code",
   "execution_count": 24,
   "id": "4345fb21-99ba-4870-8265-57432c6299a2",
   "metadata": {},
   "outputs": [
    {
     "data": {
      "text/plain": [
       "array([10, 20, 30, 40])"
      ]
     },
     "execution_count": 24,
     "metadata": {},
     "output_type": "execute_result"
    }
   ],
   "source": [
    "np.squeeze(arr2_exp)"
   ]
  },
  {
   "cell_type": "code",
   "execution_count": 25,
   "id": "faead5eb-7073-4845-bf30-5af39b395b80",
   "metadata": {},
   "outputs": [
    {
     "data": {
      "text/plain": [
       "1"
      ]
     },
     "execution_count": 25,
     "metadata": {},
     "output_type": "execute_result"
    }
   ],
   "source": [
    "np.squeeze(arr2_exp).ndim"
   ]
  },
  {
   "cell_type": "code",
   "execution_count": 27,
   "id": "3a9ab6de-90df-4f7b-bc5d-d9c5dcb22d09",
   "metadata": {},
   "outputs": [
    {
     "data": {
      "text/plain": [
       "numpy.ndarray"
      ]
     },
     "execution_count": 27,
     "metadata": {},
     "output_type": "execute_result"
    }
   ],
   "source": [
    "type(np.squeeze(arr2_exp))"
   ]
  },
  {
   "cell_type": "code",
   "execution_count": 30,
   "id": "8436f3ae-4726-4f02-b572-2b1b222446f3",
   "metadata": {},
   "outputs": [],
   "source": [
    "arr3 = np.array([[1,2,3],[4,5,6]])"
   ]
  },
  {
   "cell_type": "code",
   "execution_count": 32,
   "id": "81324e7c-f744-43b6-9fd8-c4b006caf1fb",
   "metadata": {},
   "outputs": [
    {
     "data": {
      "text/plain": [
       "array([[1, 2, 3],\n",
       "       [4, 5, 6]])"
      ]
     },
     "execution_count": 32,
     "metadata": {},
     "output_type": "execute_result"
    }
   ],
   "source": [
    "arr3"
   ]
  },
  {
   "cell_type": "code",
   "execution_count": 31,
   "id": "44463635-a628-45be-a415-c98f751f21bb",
   "metadata": {},
   "outputs": [
    {
     "data": {
      "text/plain": [
       "array([1, 1, 1, 2, 2, 2, 3, 3, 3, 4, 4, 4, 5, 5, 5, 6, 6, 6])"
      ]
     },
     "execution_count": 31,
     "metadata": {},
     "output_type": "execute_result"
    }
   ],
   "source": [
    "np.repeat(arr3,3)"
   ]
  },
  {
   "cell_type": "code",
   "execution_count": 40,
   "id": "089aef6b-b474-4ff1-885c-9f22884b2830",
   "metadata": {},
   "outputs": [
    {
     "data": {
      "text/plain": [
       "array([30, 40, 10, 20])"
      ]
     },
     "execution_count": 40,
     "metadata": {},
     "output_type": "execute_result"
    }
   ],
   "source": [
    "np.roll(arr2,2)"
   ]
  },
  {
   "cell_type": "code",
   "execution_count": 41,
   "id": "965bc3b0-26d7-47d7-913b-998e44e6ab03",
   "metadata": {},
   "outputs": [
    {
     "data": {
      "text/plain": [
       "array([10, 20, 30, 40])"
      ]
     },
     "execution_count": 41,
     "metadata": {},
     "output_type": "execute_result"
    }
   ],
   "source": [
    "arr2"
   ]
  },
  {
   "cell_type": "markdown",
   "id": "63d6fdab-9430-46fb-b6fc-09c2dd3c7d62",
   "metadata": {},
   "source": [
    "## Binary Operations\n"
   ]
  },
  {
   "cell_type": "code",
   "execution_count": 42,
   "id": "e4db533d-269c-4607-ab39-4e0d35d18057",
   "metadata": {},
   "outputs": [],
   "source": [
    "arr4 = np.array([[1,2,3],[4,5,6]])"
   ]
  },
  {
   "cell_type": "code",
   "execution_count": 43,
   "id": "5ca12f0f-019a-4c62-975b-3216726d904a",
   "metadata": {},
   "outputs": [],
   "source": [
    "arr5 = np.array([[10,20,30],[40,50,60]])"
   ]
  },
  {
   "cell_type": "code",
   "execution_count": 44,
   "id": "1d748716-6717-4657-bf86-d81bad12cfb8",
   "metadata": {},
   "outputs": [
    {
     "data": {
      "text/plain": [
       "array([[ -9, -18, -27],\n",
       "       [-36, -45, -54]])"
      ]
     },
     "execution_count": 44,
     "metadata": {},
     "output_type": "execute_result"
    }
   ],
   "source": [
    "arr4 - arr5"
   ]
  },
  {
   "cell_type": "code",
   "execution_count": 45,
   "id": "3e431ffb-3484-44e2-a8d6-d25494b4c2ca",
   "metadata": {},
   "outputs": [
    {
     "data": {
      "text/plain": [
       "array([[11, 22, 33],\n",
       "       [44, 55, 66]])"
      ]
     },
     "execution_count": 45,
     "metadata": {},
     "output_type": "execute_result"
    }
   ],
   "source": [
    "arr4 + arr5"
   ]
  },
  {
   "cell_type": "code",
   "execution_count": 47,
   "id": "c16ddf8b-a610-4742-886e-e875ed6cc5c9",
   "metadata": {},
   "outputs": [
    {
     "data": {
      "text/plain": [
       "array([[ 10,  40,  90],\n",
       "       [160, 250, 360]])"
      ]
     },
     "execution_count": 47,
     "metadata": {},
     "output_type": "execute_result"
    }
   ],
   "source": [
    "arr4 * arr5"
   ]
  },
  {
   "cell_type": "code",
   "execution_count": 48,
   "id": "7eab7347-d9c2-439a-98ea-66e507ac1216",
   "metadata": {},
   "outputs": [
    {
     "data": {
      "text/plain": [
       "array([[ 1,  4,  9],\n",
       "       [16, 25, 36]])"
      ]
     },
     "execution_count": 48,
     "metadata": {},
     "output_type": "execute_result"
    }
   ],
   "source": [
    "arr4 ** 2"
   ]
  },
  {
   "cell_type": "code",
   "execution_count": 52,
   "id": "540e2a72-d4c4-471c-94bf-989477f6cf99",
   "metadata": {},
   "outputs": [],
   "source": [
    "arr6 = np.array([[1,2],[3,4]])\n",
    "arr7 = np.array([[5,6],[7,8]])"
   ]
  },
  {
   "cell_type": "code",
   "execution_count": 54,
   "id": "adc35a01-00f3-4c96-a832-47f1cdca43ed",
   "metadata": {},
   "outputs": [
    {
     "data": {
      "text/plain": [
       "array([[19, 22],\n",
       "       [43, 50]])"
      ]
     },
     "execution_count": 54,
     "metadata": {},
     "output_type": "execute_result"
    }
   ],
   "source": [
    "arr6 @ arr7"
   ]
  },
  {
   "cell_type": "markdown",
   "id": "3cdcc326-23ed-4bc4-83a2-2e81b6d082c9",
   "metadata": {},
   "source": [
    "## Numpy --> String  manipulation"
   ]
  },
  {
   "cell_type": "code",
   "execution_count": 55,
   "id": "bc2121b4-ec4d-4c3d-bbf2-9704392ee5ae",
   "metadata": {},
   "outputs": [],
   "source": [
    "nameString = np.array([[\"karan\",\"abhay\",\"vikas\"]])"
   ]
  },
  {
   "cell_type": "code",
   "execution_count": 56,
   "id": "bf50ae3e-5780-4e6f-a0bb-4882b7c4e408",
   "metadata": {},
   "outputs": [
    {
     "data": {
      "text/plain": [
       "array([['karan', 'abhay', 'vikas']], dtype='<U5')"
      ]
     },
     "execution_count": 56,
     "metadata": {},
     "output_type": "execute_result"
    }
   ],
   "source": [
    "nameString"
   ]
  },
  {
   "cell_type": "code",
   "execution_count": 58,
   "id": "459579bf-c7bc-466b-a0f1-2e173d9a684d",
   "metadata": {},
   "outputs": [
    {
     "data": {
      "text/plain": [
       "array([['karan', 'abhay', 'vikas']], dtype='<U5')"
      ]
     },
     "execution_count": 58,
     "metadata": {},
     "output_type": "execute_result"
    }
   ],
   "source": [
    "np.char.lower(nameString)"
   ]
  },
  {
   "cell_type": "code",
   "execution_count": 59,
   "id": "6aa78711-c2c8-4204-9011-84d30f03b1cc",
   "metadata": {},
   "outputs": [
    {
     "data": {
      "text/plain": [
       "array([['Karan', 'Abhay', 'Vikas']], dtype='<U5')"
      ]
     },
     "execution_count": 59,
     "metadata": {},
     "output_type": "execute_result"
    }
   ],
   "source": [
    "np.char.capitalize(nameString)"
   ]
  },
  {
   "cell_type": "code",
   "execution_count": 60,
   "id": "e730ec39-8a13-4538-ace3-3db181d0f6ac",
   "metadata": {},
   "outputs": [
    {
     "data": {
      "text/plain": [
       "array([['Karan', 'Abhay', 'Vikas']], dtype='<U5')"
      ]
     },
     "execution_count": 60,
     "metadata": {},
     "output_type": "execute_result"
    }
   ],
   "source": [
    "np.char.title(nameString)"
   ]
  },
  {
   "cell_type": "markdown",
   "id": "f6f1a77e-7a03-414c-a5d6-8be16e3bad59",
   "metadata": {},
   "source": [
    "## Numpy --> Mathmatical manipulation"
   ]
  },
  {
   "cell_type": "code",
   "execution_count": 62,
   "id": "7ee7e2a5-94d0-4ab2-b37d-2c08fa3f064d",
   "metadata": {},
   "outputs": [
    {
     "data": {
      "text/plain": [
       "array([[1, 2, 3],\n",
       "       [4, 5, 6]])"
      ]
     },
     "execution_count": 62,
     "metadata": {},
     "output_type": "execute_result"
    }
   ],
   "source": [
    "arr3"
   ]
  },
  {
   "cell_type": "code",
   "execution_count": 63,
   "id": "1403ffed-9b9a-432a-84a5-9d98f2405f71",
   "metadata": {},
   "outputs": [
    {
     "data": {
      "text/plain": [
       "array([[ 0.84147098,  0.90929743,  0.14112001],\n",
       "       [-0.7568025 , -0.95892427, -0.2794155 ]])"
      ]
     },
     "execution_count": 63,
     "metadata": {},
     "output_type": "execute_result"
    }
   ],
   "source": [
    "np.sin(arr3)"
   ]
  },
  {
   "cell_type": "code",
   "execution_count": 64,
   "id": "04b075d0-a632-4ba7-92aa-a22a61cbd7ca",
   "metadata": {},
   "outputs": [
    {
     "data": {
      "text/plain": [
       "array([[ 0.54030231, -0.41614684, -0.9899925 ],\n",
       "       [-0.65364362,  0.28366219,  0.96017029]])"
      ]
     },
     "execution_count": 64,
     "metadata": {},
     "output_type": "execute_result"
    }
   ],
   "source": [
    "np.cos(arr3)\n"
   ]
  },
  {
   "cell_type": "code",
   "execution_count": 65,
   "id": "d2b0c1c7-c16b-4ee7-abaa-2ed044fab6c7",
   "metadata": {},
   "outputs": [
    {
     "data": {
      "text/plain": [
       "array([[ 1.55740772, -2.18503986, -0.14254654],\n",
       "       [ 1.15782128, -3.38051501, -0.29100619]])"
      ]
     },
     "execution_count": 65,
     "metadata": {},
     "output_type": "execute_result"
    }
   ],
   "source": [
    "np.tan(arr3)"
   ]
  },
  {
   "cell_type": "code",
   "execution_count": 69,
   "id": "9d24999e-773b-4eab-aea0-1f6bfa0a8c3f",
   "metadata": {},
   "outputs": [
    {
     "data": {
      "text/plain": [
       "3.5"
      ]
     },
     "execution_count": 69,
     "metadata": {},
     "output_type": "execute_result"
    }
   ],
   "source": [
    "np.mean(arr3)"
   ]
  },
  {
   "cell_type": "code",
   "execution_count": 70,
   "id": "eb3cbbb0-d4a6-4b16-a0a7-659d42c11b05",
   "metadata": {},
   "outputs": [
    {
     "data": {
      "text/plain": [
       "3.5"
      ]
     },
     "execution_count": 70,
     "metadata": {},
     "output_type": "execute_result"
    }
   ],
   "source": [
    "np.median(arr3)"
   ]
  },
  {
   "cell_type": "code",
   "execution_count": 72,
   "id": "d63b9808-953d-41de-b7b0-ed3231d142d8",
   "metadata": {},
   "outputs": [
    {
     "data": {
      "text/plain": [
       "1.707825127659933"
      ]
     },
     "execution_count": 72,
     "metadata": {},
     "output_type": "execute_result"
    }
   ],
   "source": [
    "np.std(arr3)"
   ]
  },
  {
   "cell_type": "code",
   "execution_count": 73,
   "id": "27bc0f72-6b56-4aff-bc27-af455b7c2efd",
   "metadata": {},
   "outputs": [
    {
     "data": {
      "text/plain": [
       "2.9166666666666665"
      ]
     },
     "execution_count": 73,
     "metadata": {},
     "output_type": "execute_result"
    }
   ],
   "source": [
    "np.var(arr3)\n"
   ]
  },
  {
   "cell_type": "code",
   "execution_count": 74,
   "id": "8bd315bb-a871-4e2d-9118-527cc1b9941f",
   "metadata": {},
   "outputs": [
    {
     "data": {
      "text/plain": [
       "1"
      ]
     },
     "execution_count": 74,
     "metadata": {},
     "output_type": "execute_result"
    }
   ],
   "source": [
    "np.min(arr3)"
   ]
  },
  {
   "cell_type": "code",
   "execution_count": 75,
   "id": "5a5687e5-eb0d-408b-afdb-4386f84a1e51",
   "metadata": {},
   "outputs": [
    {
     "data": {
      "text/plain": [
       "6"
      ]
     },
     "execution_count": 75,
     "metadata": {},
     "output_type": "execute_result"
    }
   ],
   "source": [
    "np.max(arr3)"
   ]
  },
  {
   "cell_type": "code",
   "execution_count": null,
   "id": "9811a9a2-4f73-4ddb-9872-e00dcbdf62cc",
   "metadata": {},
   "outputs": [],
   "source": []
  }
 ],
 "metadata": {
  "kernelspec": {
   "display_name": "Python 3 (ipykernel)",
   "language": "python",
   "name": "python3"
  },
  "language_info": {
   "codemirror_mode": {
    "name": "ipython",
    "version": 3
   },
   "file_extension": ".py",
   "mimetype": "text/x-python",
   "name": "python",
   "nbconvert_exporter": "python",
   "pygments_lexer": "ipython3",
   "version": "3.11.5"
  }
 },
 "nbformat": 4,
 "nbformat_minor": 5
}
