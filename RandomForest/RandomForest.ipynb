{
 "cells": [
  {
   "cell_type": "code",
   "execution_count": 147,
   "id": "4d2f570d-7153-4384-9cb0-aaf74a252cc9",
   "metadata": {},
   "outputs": [],
   "source": [
    "import pandas as pd\n",
    "import seaborn as sns"
   ]
  },
  {
   "cell_type": "code",
   "execution_count": 148,
   "id": "6388383f-b48d-4d5c-b067-2be0ef87ea6b",
   "metadata": {},
   "outputs": [],
   "source": [
    "df = sns.load_dataset('tips')"
   ]
  },
  {
   "cell_type": "code",
   "execution_count": 149,
   "id": "f90e8763-adb0-401e-8c80-386cbb629329",
   "metadata": {},
   "outputs": [
    {
     "data": {
      "text/html": [
       "<div>\n",
       "<style scoped>\n",
       "    .dataframe tbody tr th:only-of-type {\n",
       "        vertical-align: middle;\n",
       "    }\n",
       "\n",
       "    .dataframe tbody tr th {\n",
       "        vertical-align: top;\n",
       "    }\n",
       "\n",
       "    .dataframe thead th {\n",
       "        text-align: right;\n",
       "    }\n",
       "</style>\n",
       "<table border=\"1\" class=\"dataframe\">\n",
       "  <thead>\n",
       "    <tr style=\"text-align: right;\">\n",
       "      <th></th>\n",
       "      <th>total_bill</th>\n",
       "      <th>tip</th>\n",
       "      <th>sex</th>\n",
       "      <th>smoker</th>\n",
       "      <th>day</th>\n",
       "      <th>time</th>\n",
       "      <th>size</th>\n",
       "    </tr>\n",
       "  </thead>\n",
       "  <tbody>\n",
       "    <tr>\n",
       "      <th>0</th>\n",
       "      <td>16.99</td>\n",
       "      <td>1.01</td>\n",
       "      <td>Female</td>\n",
       "      <td>No</td>\n",
       "      <td>Sun</td>\n",
       "      <td>Dinner</td>\n",
       "      <td>2</td>\n",
       "    </tr>\n",
       "    <tr>\n",
       "      <th>1</th>\n",
       "      <td>10.34</td>\n",
       "      <td>1.66</td>\n",
       "      <td>Male</td>\n",
       "      <td>No</td>\n",
       "      <td>Sun</td>\n",
       "      <td>Dinner</td>\n",
       "      <td>3</td>\n",
       "    </tr>\n",
       "    <tr>\n",
       "      <th>2</th>\n",
       "      <td>21.01</td>\n",
       "      <td>3.50</td>\n",
       "      <td>Male</td>\n",
       "      <td>No</td>\n",
       "      <td>Sun</td>\n",
       "      <td>Dinner</td>\n",
       "      <td>3</td>\n",
       "    </tr>\n",
       "    <tr>\n",
       "      <th>3</th>\n",
       "      <td>23.68</td>\n",
       "      <td>3.31</td>\n",
       "      <td>Male</td>\n",
       "      <td>No</td>\n",
       "      <td>Sun</td>\n",
       "      <td>Dinner</td>\n",
       "      <td>2</td>\n",
       "    </tr>\n",
       "    <tr>\n",
       "      <th>4</th>\n",
       "      <td>24.59</td>\n",
       "      <td>3.61</td>\n",
       "      <td>Female</td>\n",
       "      <td>No</td>\n",
       "      <td>Sun</td>\n",
       "      <td>Dinner</td>\n",
       "      <td>4</td>\n",
       "    </tr>\n",
       "  </tbody>\n",
       "</table>\n",
       "</div>"
      ],
      "text/plain": [
       "   total_bill   tip     sex smoker  day    time  size\n",
       "0       16.99  1.01  Female     No  Sun  Dinner     2\n",
       "1       10.34  1.66    Male     No  Sun  Dinner     3\n",
       "2       21.01  3.50    Male     No  Sun  Dinner     3\n",
       "3       23.68  3.31    Male     No  Sun  Dinner     2\n",
       "4       24.59  3.61  Female     No  Sun  Dinner     4"
      ]
     },
     "execution_count": 149,
     "metadata": {},
     "output_type": "execute_result"
    }
   ],
   "source": [
    "df.head()"
   ]
  },
  {
   "cell_type": "code",
   "execution_count": 150,
   "id": "8b452766-9218-4594-878f-9373a078912d",
   "metadata": {},
   "outputs": [
    {
     "data": {
      "text/plain": [
       "total_bill    0\n",
       "tip           0\n",
       "sex           0\n",
       "smoker        0\n",
       "day           0\n",
       "time          0\n",
       "size          0\n",
       "dtype: int64"
      ]
     },
     "execution_count": 150,
     "metadata": {},
     "output_type": "execute_result"
    }
   ],
   "source": [
    "df.isnull().sum()"
   ]
  },
  {
   "cell_type": "code",
   "execution_count": 151,
   "id": "bcca23ca-19e0-4392-8cf2-851992a64259",
   "metadata": {},
   "outputs": [],
   "source": [
    "X = df.drop('time',axis = 1)"
   ]
  },
  {
   "cell_type": "code",
   "execution_count": 152,
   "id": "bb25143f-4217-4590-a582-646ce697e450",
   "metadata": {},
   "outputs": [],
   "source": [
    "from sklearn.preprocessing import LabelEncoder"
   ]
  },
  {
   "cell_type": "code",
   "execution_count": 153,
   "id": "5701e681-ab9a-4a9f-9ef2-af65a2f29c55",
   "metadata": {},
   "outputs": [],
   "source": [
    "encoder = LabelEncoder()"
   ]
  },
  {
   "cell_type": "code",
   "execution_count": 154,
   "id": "6a28c3f5-6ef9-4248-b53e-14eebd760af5",
   "metadata": {},
   "outputs": [],
   "source": [
    "df['time']= encoder.fit_transform(df['time'])"
   ]
  },
  {
   "cell_type": "code",
   "execution_count": 155,
   "id": "3e057b86-894e-4c0e-b96d-f0f6e0d21da2",
   "metadata": {},
   "outputs": [],
   "source": [
    "y= df.time"
   ]
  },
  {
   "cell_type": "code",
   "execution_count": 156,
   "id": "fad66097-1c10-496f-9d32-2e38f771710b",
   "metadata": {},
   "outputs": [
    {
     "data": {
      "text/plain": [
       "array([0, 1])"
      ]
     },
     "execution_count": 156,
     "metadata": {},
     "output_type": "execute_result"
    }
   ],
   "source": [
    "y.unique()"
   ]
  },
  {
   "cell_type": "code",
   "execution_count": 157,
   "id": "c74cb2a1-26cd-4153-9334-46b49cdbb6d4",
   "metadata": {},
   "outputs": [],
   "source": [
    "from sklearn.model_selection import train_test_split"
   ]
  },
  {
   "cell_type": "code",
   "execution_count": 158,
   "id": "5ef6be58-baca-450c-a235-b90911e40ffb",
   "metadata": {},
   "outputs": [],
   "source": [
    "X_train,X_test,y_train,y_test= train_test_split(X,y,test_size=0.20,random_state=42)"
   ]
  },
  {
   "cell_type": "code",
   "execution_count": 159,
   "id": "20e2739f-8e9c-4500-9721-f14aed89cd56",
   "metadata": {},
   "outputs": [
    {
     "data": {
      "text/plain": [
       "((195, 6), (49, 6), (195,), (49,))"
      ]
     },
     "execution_count": 159,
     "metadata": {},
     "output_type": "execute_result"
    }
   ],
   "source": [
    "X_train.shape,X_test.shape,y_train.shape,y_test.shape"
   ]
  },
  {
   "cell_type": "code",
   "execution_count": 160,
   "id": "34bb2627-230d-4a6a-99e5-44c645b9f4d9",
   "metadata": {},
   "outputs": [],
   "source": [
    "from sklearn.pipeline import Pipeline\n",
    "from sklearn.impute import SimpleImputer\n",
    "from sklearn.preprocessing import StandardScaler\n",
    "from sklearn.preprocessing import OneHotEncoder\n",
    "from sklearn.compose import ColumnTransformer"
   ]
  },
  {
   "cell_type": "code",
   "execution_count": 161,
   "id": "cf9c5910-7f8b-47c3-acda-33494093acfb",
   "metadata": {},
   "outputs": [],
   "source": [
    "num_categorical_data = ['total_bill','tip','size']\n",
    "obj_categorical_data = ['sex','smoker','day']"
   ]
  },
  {
   "cell_type": "code",
   "execution_count": 162,
   "id": "a3fa871d-dc1b-4c4b-919e-8d010ce2d80c",
   "metadata": {},
   "outputs": [],
   "source": [
    "num_pipeline = Pipeline(steps = [\n",
    "    ('imputer',SimpleImputer(strategy='median')),#handling missing values\n",
    "    ('scaler',StandardScaler())#feature scaling\n",
    "])\n",
    "\n",
    "\n",
    "obj_pipeline = Pipeline(steps = [\n",
    "    ('imputer',SimpleImputer(strategy='most_frequent')),#handling missing values\n",
    "    ('encoder',OneHotEncoder()) # categorical feature to numerical feature\n",
    "])"
   ]
  },
  {
   "cell_type": "code",
   "execution_count": 163,
   "id": "d19c2260-fb1a-41e0-be71-0f5abac7ffa2",
   "metadata": {},
   "outputs": [],
   "source": [
    "processor = ColumnTransformer(\n",
    "    [\n",
    "        ('num_categorical_data',num_pipeline,num_categorical_data),\n",
    "        ('obj_categorical_data',obj_pipeline,obj_categorical_data)\n",
    "    ]\n",
    ")"
   ]
  },
  {
   "cell_type": "code",
   "execution_count": 164,
   "id": "17908b0f-d7be-46f8-bce6-b193eee01a20",
   "metadata": {},
   "outputs": [],
   "source": [
    "X_train = processor.fit_transform(X_train)"
   ]
  },
  {
   "cell_type": "code",
   "execution_count": 165,
   "id": "6a85f9f4-dd01-426f-b1a9-490862a5bcbe",
   "metadata": {},
   "outputs": [],
   "source": [
    "X_test = processor.fit_transform(X_test)"
   ]
  },
  {
   "cell_type": "code",
   "execution_count": 166,
   "id": "67f3c94c-99bb-488b-944a-5ca9a6f303e8",
   "metadata": {},
   "outputs": [],
   "source": [
    "from sklearn.ensemble import RandomForestClassifier\n",
    "from sklearn.linear_model import LogisticRegression\n",
    "from sklearn.tree import DecisionTreeClassifier\n",
    "from sklearn.metrics import accuracy_score"
   ]
  },
  {
   "cell_type": "code",
   "execution_count": 167,
   "id": "9c0d0613-c86f-4e36-b68e-80ba7add7d7e",
   "metadata": {},
   "outputs": [],
   "source": [
    "model = {\n",
    "    'Random Forest' : RandomForestClassifier(),\n",
    "    'LogisticRegression' : LogisticRegression(),\n",
    "    'DecisionTree' : DecisionTreeClassifier()\n",
    "}"
   ]
  },
  {
   "cell_type": "code",
   "execution_count": 168,
   "id": "d60e681f-6e17-4b6b-b9de-5cb50eb57ceb",
   "metadata": {},
   "outputs": [
    {
     "name": "stdout",
     "output_type": "stream",
     "text": [
      "RandomForestClassifier()\n",
      "LogisticRegression()\n",
      "DecisionTreeClassifier()\n"
     ]
    }
   ],
   "source": [
    "for i in range(len(model)):\n",
    "    print(list(model.values())[i])"
   ]
  },
  {
   "cell_type": "code",
   "execution_count": 171,
   "id": "2fc879c8-e361-431b-abce-f3aba56f80ac",
   "metadata": {},
   "outputs": [],
   "source": [
    "def report_generator(X_train,X_test,y_train,y_test,model):\n",
    "    report = {}\n",
    "    for i in range(len(model)):\n",
    "        Predictmodel = list(model.values())[i]\n",
    "        Predictmodel.fit(X_train,y_train)\n",
    "        y_predict = Predictmodel.predict(X_test)\n",
    "\n",
    "        test_model_score = accuracy_score(y_test,y_predict)\n",
    "        report[list(model.keys())[i]] = test_model_score\n",
    "    return report\n",
    "        \n",
    "        "
   ]
  },
  {
   "cell_type": "code",
   "execution_count": 172,
   "id": "445095a8-a4f3-4dea-9861-6c3607a083c9",
   "metadata": {},
   "outputs": [
    {
     "data": {
      "text/plain": [
       "{'Random Forest': 0.9795918367346939,\n",
       " 'LogisticRegression': 1.0,\n",
       " 'DecisionTree': 0.9795918367346939}"
      ]
     },
     "execution_count": 172,
     "metadata": {},
     "output_type": "execute_result"
    }
   ],
   "source": [
    "report_generator(X_train,X_test,y_train,y_test,model)"
   ]
  },
  {
   "cell_type": "code",
   "execution_count": null,
   "id": "8378d3d9-b721-4ada-a666-01cfc88e0300",
   "metadata": {},
   "outputs": [],
   "source": []
  }
 ],
 "metadata": {
  "kernelspec": {
   "display_name": "Python 3 (ipykernel)",
   "language": "python",
   "name": "python3"
  },
  "language_info": {
   "codemirror_mode": {
    "name": "ipython",
    "version": 3
   },
   "file_extension": ".py",
   "mimetype": "text/x-python",
   "name": "python",
   "nbconvert_exporter": "python",
   "pygments_lexer": "ipython3",
   "version": "3.11.5"
  }
 },
 "nbformat": 4,
 "nbformat_minor": 5
}
