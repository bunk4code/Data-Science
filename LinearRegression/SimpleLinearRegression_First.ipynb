{
 "cells": [
  {
   "cell_type": "code",
   "execution_count": 197,
   "id": "e7a326b5-7313-4136-baa8-77aa2ededadd",
   "metadata": {},
   "outputs": [],
   "source": [
    "# Import Libaries\n",
    "import pandas as pd\n",
    "import numpy as np\n",
    "import seaborn as sns\n",
    "import matplotlib.pyplot as plt\n",
    "%matplotlib inline\n",
    "import warnings\n",
    "warnings.filterwarnings('ignore')"
   ]
  },
  {
   "cell_type": "code",
   "execution_count": 198,
   "id": "8b9ceb86-c8ae-4135-ae4f-140d413a500c",
   "metadata": {},
   "outputs": [],
   "source": [
    "#reading the dataset\n",
    "data= pd.read_excel(\"height_weight.xlsx\")"
   ]
  },
  {
   "cell_type": "code",
   "execution_count": 229,
   "id": "ac296fa7-6f5d-43cc-858f-eb66e8b41099",
   "metadata": {},
   "outputs": [
    {
     "data": {
      "text/html": [
       "<div>\n",
       "<style scoped>\n",
       "    .dataframe tbody tr th:only-of-type {\n",
       "        vertical-align: middle;\n",
       "    }\n",
       "\n",
       "    .dataframe tbody tr th {\n",
       "        vertical-align: top;\n",
       "    }\n",
       "\n",
       "    .dataframe thead th {\n",
       "        text-align: right;\n",
       "    }\n",
       "</style>\n",
       "<table border=\"1\" class=\"dataframe\">\n",
       "  <thead>\n",
       "    <tr style=\"text-align: right;\">\n",
       "      <th></th>\n",
       "      <th>Height</th>\n",
       "      <th>Weight</th>\n",
       "    </tr>\n",
       "  </thead>\n",
       "  <tbody>\n",
       "    <tr>\n",
       "      <th>0</th>\n",
       "      <td>65</td>\n",
       "      <td>112</td>\n",
       "    </tr>\n",
       "    <tr>\n",
       "      <th>1</th>\n",
       "      <td>71</td>\n",
       "      <td>136</td>\n",
       "    </tr>\n",
       "    <tr>\n",
       "      <th>2</th>\n",
       "      <td>69</td>\n",
       "      <td>153</td>\n",
       "    </tr>\n",
       "    <tr>\n",
       "      <th>3</th>\n",
       "      <td>68</td>\n",
       "      <td>142</td>\n",
       "    </tr>\n",
       "    <tr>\n",
       "      <th>4</th>\n",
       "      <td>70</td>\n",
       "      <td>144</td>\n",
       "    </tr>\n",
       "  </tbody>\n",
       "</table>\n",
       "</div>"
      ],
      "text/plain": [
       "   Height  Weight\n",
       "0      65     112\n",
       "1      71     136\n",
       "2      69     153\n",
       "3      68     142\n",
       "4      70     144"
      ]
     },
     "execution_count": 229,
     "metadata": {},
     "output_type": "execute_result"
    }
   ],
   "source": [
    "data.head(5)"
   ]
  },
  {
   "cell_type": "markdown",
   "id": "fafc00d2-0026-4fd0-951a-1c571d59510f",
   "metadata": {},
   "source": [
    "## EDA (Exploring Data Analysis)"
   ]
  },
  {
   "cell_type": "code",
   "execution_count": 200,
   "id": "5f16a114-cc4c-45c8-bbb0-78891e5e0a6c",
   "metadata": {},
   "outputs": [
    {
     "name": "stdout",
     "output_type": "stream",
     "text": [
      "<class 'pandas.core.frame.DataFrame'>\n",
      "RangeIndex: 51 entries, 0 to 50\n",
      "Data columns (total 2 columns):\n",
      " #   Column  Non-Null Count  Dtype\n",
      "---  ------  --------------  -----\n",
      " 0   Height  51 non-null     int64\n",
      " 1   Weight  51 non-null     int64\n",
      "dtypes: int64(2)\n",
      "memory usage: 948.0 bytes\n"
     ]
    }
   ],
   "source": [
    "data.info()"
   ]
  },
  {
   "cell_type": "code",
   "execution_count": 201,
   "id": "90ded7f5-efa7-4360-9a8d-ede04df70310",
   "metadata": {},
   "outputs": [
    {
     "data": {
      "text/html": [
       "<div>\n",
       "<style scoped>\n",
       "    .dataframe tbody tr th:only-of-type {\n",
       "        vertical-align: middle;\n",
       "    }\n",
       "\n",
       "    .dataframe tbody tr th {\n",
       "        vertical-align: top;\n",
       "    }\n",
       "\n",
       "    .dataframe thead th {\n",
       "        text-align: right;\n",
       "    }\n",
       "</style>\n",
       "<table border=\"1\" class=\"dataframe\">\n",
       "  <thead>\n",
       "    <tr style=\"text-align: right;\">\n",
       "      <th></th>\n",
       "      <th>Height</th>\n",
       "      <th>Weight</th>\n",
       "    </tr>\n",
       "  </thead>\n",
       "  <tbody>\n",
       "    <tr>\n",
       "      <th>count</th>\n",
       "      <td>51.000000</td>\n",
       "      <td>51.000000</td>\n",
       "    </tr>\n",
       "    <tr>\n",
       "      <th>mean</th>\n",
       "      <td>65.823529</td>\n",
       "      <td>149.862745</td>\n",
       "    </tr>\n",
       "    <tr>\n",
       "      <th>std</th>\n",
       "      <td>6.568732</td>\n",
       "      <td>17.629543</td>\n",
       "    </tr>\n",
       "    <tr>\n",
       "      <th>min</th>\n",
       "      <td>50.000000</td>\n",
       "      <td>112.000000</td>\n",
       "    </tr>\n",
       "    <tr>\n",
       "      <th>25%</th>\n",
       "      <td>64.000000</td>\n",
       "      <td>139.500000</td>\n",
       "    </tr>\n",
       "    <tr>\n",
       "      <th>50%</th>\n",
       "      <td>68.000000</td>\n",
       "      <td>155.000000</td>\n",
       "    </tr>\n",
       "    <tr>\n",
       "      <th>75%</th>\n",
       "      <td>70.000000</td>\n",
       "      <td>165.500000</td>\n",
       "    </tr>\n",
       "    <tr>\n",
       "      <th>max</th>\n",
       "      <td>78.000000</td>\n",
       "      <td>170.000000</td>\n",
       "    </tr>\n",
       "  </tbody>\n",
       "</table>\n",
       "</div>"
      ],
      "text/plain": [
       "          Height      Weight\n",
       "count  51.000000   51.000000\n",
       "mean   65.823529  149.862745\n",
       "std     6.568732   17.629543\n",
       "min    50.000000  112.000000\n",
       "25%    64.000000  139.500000\n",
       "50%    68.000000  155.000000\n",
       "75%    70.000000  165.500000\n",
       "max    78.000000  170.000000"
      ]
     },
     "execution_count": 201,
     "metadata": {},
     "output_type": "execute_result"
    }
   ],
   "source": [
    "data.describe()"
   ]
  },
  {
   "cell_type": "code",
   "execution_count": 202,
   "id": "12b4237a-9ae6-4b06-ba12-523fcceece3e",
   "metadata": {},
   "outputs": [
    {
     "data": {
      "text/plain": [
       "Height    0\n",
       "Weight    0\n",
       "dtype: int64"
      ]
     },
     "execution_count": 202,
     "metadata": {},
     "output_type": "execute_result"
    }
   ],
   "source": [
    "data.isnull().sum()"
   ]
  },
  {
   "cell_type": "code",
   "execution_count": 203,
   "id": "7c4ca8f0-9116-404a-bbfa-1e2a6c1f4c0c",
   "metadata": {},
   "outputs": [],
   "source": [
    "\n",
    "# divide the dataset into dependent and independent features\n",
    "\n",
    "X = data[['Weight']]\n",
    "y = data['Height']"
   ]
  },
  {
   "cell_type": "code",
   "execution_count": 204,
   "id": "c5d4baa0-af27-4e7f-8d4a-28178b2dae90",
   "metadata": {},
   "outputs": [],
   "source": [
    "# spliting the data into training datast and testing dataset\n",
    "from sklearn.model_selection import train_test_split"
   ]
  },
  {
   "cell_type": "code",
   "execution_count": 205,
   "id": "1d36ccd8-c93d-4640-9e87-11b403394a58",
   "metadata": {},
   "outputs": [],
   "source": [
    "X_train,X_test,y_train,y_test = train_test_split(X,y,test_size=0.2,random_state=42)"
   ]
  },
  {
   "cell_type": "code",
   "execution_count": 206,
   "id": "cd989469-c472-4226-bc2d-8aa3cf3c578d",
   "metadata": {},
   "outputs": [
    {
     "data": {
      "text/plain": [
       "((40, 1), (11, 1))"
      ]
     },
     "execution_count": 206,
     "metadata": {},
     "output_type": "execute_result"
    }
   ],
   "source": [
    "X_train.shape,X_test.shape"
   ]
  },
  {
   "cell_type": "code",
   "execution_count": 207,
   "id": "192acdcc-11ec-4b91-9764-464f661dea11",
   "metadata": {},
   "outputs": [
    {
     "data": {
      "text/plain": [
       "((40,), (11,))"
      ]
     },
     "execution_count": 207,
     "metadata": {},
     "output_type": "execute_result"
    }
   ],
   "source": [
    "y_train.shape,y_test.shape"
   ]
  },
  {
   "cell_type": "code",
   "execution_count": 208,
   "id": "2a91dacb-466b-4f32-ad13-2a68f112f113",
   "metadata": {},
   "outputs": [],
   "source": [
    "#Scaling the data\n",
    "from sklearn.preprocessing import StandardScaler\n",
    "\n",
    "scaler = StandardScaler()\n",
    "\n"
   ]
  },
  {
   "cell_type": "code",
   "execution_count": 209,
   "id": "59aefe34-d0e8-4621-8fa7-344c1d00b4f0",
   "metadata": {},
   "outputs": [],
   "source": [
    "X_train =scaler.fit_transform(X_train)"
   ]
  },
  {
   "cell_type": "code",
   "execution_count": 210,
   "id": "ef3e0f7f-44e4-4858-8429-6ead727a7fa0",
   "metadata": {},
   "outputs": [
    {
     "data": {
      "text/plain": [
       "array([[-2.0993186 ],\n",
       "       [ 1.03933478],\n",
       "       [-0.50245986],\n",
       "       [ 0.81907841],\n",
       "       [-0.33726758],\n",
       "       [ 0.48869384],\n",
       "       [ 0.37856565],\n",
       "       [-1.43854947],\n",
       "       [ 0.98427069],\n",
       "       [-0.44739577],\n",
       "       [-1.65880585],\n",
       "       [-0.50245986],\n",
       "       [ 0.81907841],\n",
       "       [ 0.48869384],\n",
       "       [ 0.92920659],\n",
       "       [-1.98919041],\n",
       "       [-2.0993186 ],\n",
       "       [ 0.54375793],\n",
       "       [ 0.8741425 ],\n",
       "       [ 0.8741425 ],\n",
       "       [-1.49361356],\n",
       "       [ 0.26843746],\n",
       "       [ 0.8741425 ],\n",
       "       [-0.77778033],\n",
       "       [ 0.81907841],\n",
       "       [ 0.15830927],\n",
       "       [ 0.98427069],\n",
       "       [ 0.81907841],\n",
       "       [ 1.03933478],\n",
       "       [ 0.10324518],\n",
       "       [-1.27335718],\n",
       "       [ 0.98427069],\n",
       "       [-0.55752396],\n",
       "       [ 1.09439888],\n",
       "       [-0.94297262],\n",
       "       [-0.77778033],\n",
       "       [ 0.26843746],\n",
       "       [-0.61258805],\n",
       "       [ 0.81907841],\n",
       "       [ 1.03933478]])"
      ]
     },
     "execution_count": 210,
     "metadata": {},
     "output_type": "execute_result"
    }
   ],
   "source": [
    "X_train"
   ]
  },
  {
   "cell_type": "code",
   "execution_count": 211,
   "id": "c11e76b5-0a38-4e9d-a3b8-b10278fbd420",
   "metadata": {},
   "outputs": [],
   "source": [
    "X_test = scaler.transform(X_test)"
   ]
  },
  {
   "cell_type": "code",
   "execution_count": 212,
   "id": "321909f0-2db0-435b-9f7c-82222ed6f41d",
   "metadata": {},
   "outputs": [
    {
     "data": {
      "text/plain": [
       "array([[ 0.43362974],\n",
       "       [ 0.92920659],\n",
       "       [ 0.48869384],\n",
       "       [-1.38348537],\n",
       "       [ 0.98427069],\n",
       "       [ 0.37856565],\n",
       "       [-0.44739577],\n",
       "       [-0.1170112 ],\n",
       "       [-0.44739577],\n",
       "       [-0.00688301],\n",
       "       [-1.54867766]])"
      ]
     },
     "execution_count": 212,
     "metadata": {},
     "output_type": "execute_result"
    }
   ],
   "source": [
    "X_test"
   ]
  },
  {
   "cell_type": "code",
   "execution_count": 213,
   "id": "34fcbe31-7ae8-45e8-b546-86cbfe8f488e",
   "metadata": {},
   "outputs": [
    {
     "data": {
      "text/plain": [
       "<matplotlib.collections.PathCollection at 0x1fa06fe62d0>"
      ]
     },
     "execution_count": 213,
     "metadata": {},
     "output_type": "execute_result"
    },
    {
     "data": {
      "image/png": "[encoded data removed]",
      "text/plain": [
       "<Figure size 640x480 with 1 Axes>"
      ]
     },
     "metadata": {},
     "output_type": "display_data"
    }
   ],
   "source": [
    "plt.scatter(X_train,y_train)"
   ]
  },
  {
   "cell_type": "code",
   "execution_count": 214,
   "id": "4037874a-d402-4b10-8471-b9b731ee24d7",
   "metadata": {},
   "outputs": [],
   "source": [
    "#training the data"
   ]
  },
  {
   "cell_type": "code",
   "execution_count": 215,
   "id": "6dfb621e-0c42-49a0-bae4-d3c988da88cc",
   "metadata": {},
   "outputs": [],
   "source": [
    "from sklearn.linear_model import LinearRegression"
   ]
  },
  {
   "cell_type": "code",
   "execution_count": 216,
   "id": "fea08a05-5119-4421-93c9-936d951f2732",
   "metadata": {},
   "outputs": [],
   "source": [
    "regressor = LinearRegression()"
   ]
  },
  {
   "cell_type": "code",
   "execution_count": 217,
   "id": "f6bfe6aa-77f8-413f-84c4-d003b03c0075",
   "metadata": {},
   "outputs": [
    {
     "data": {
      "text/html": [
       "<style>#sk-container-id-6 {color: black;}#sk-container-id-6 pre{padding: 0;}#sk-container-id-6 div.sk-toggleable {background-color: white;}#sk-container-id-6 label.sk-toggleable__label {cursor: pointer;display: block;width: 100%;margin-bottom: 0;padding: 0.3em;box-sizing: border-box;text-align: center;}#sk-container-id-6 label.sk-toggleable__label-arrow:before {content: \"▸\";float: left;margin-right: 0.25em;color: #696969;}#sk-container-id-6 label.sk-toggleable__label-arrow:hover:before {color: black;}#sk-container-id-6 div.sk-estimator:hover label.sk-toggleable__label-arrow:before {color: black;}#sk-container-id-6 div.sk-toggleable__content {max-height: 0;max-width: 0;overflow: hidden;text-align: left;background-color: #f0f8ff;}#sk-container-id-6 div.sk-toggleable__content pre {margin: 0.2em;color: black;border-radius: 0.25em;background-color: #f0f8ff;}#sk-container-id-6 input.sk-toggleable__control:checked~div.sk-toggleable__content {max-height: 200px;max-width: 100%;overflow: auto;}#sk-container-id-6 input.sk-toggleable__control:checked~label.sk-toggleable__label-arrow:before {content: \"▾\";}#sk-container-id-6 div.sk-estimator input.sk-toggleable__control:checked~label.sk-toggleable__label {background-color: #d4ebff;}#sk-container-id-6 div.sk-label input.sk-toggleable__control:checked~label.sk-toggleable__label {background-color: #d4ebff;}#sk-container-id-6 input.sk-hidden--visually {border: 0;clip: rect(1px 1px 1px 1px);clip: rect(1px, 1px, 1px, 1px);height: 1px;margin: -1px;overflow: hidden;padding: 0;position: absolute;width: 1px;}#sk-container-id-6 div.sk-estimator {font-family: monospace;background-color: #f0f8ff;border: 1px dotted black;border-radius: 0.25em;box-sizing: border-box;margin-bottom: 0.5em;}#sk-container-id-6 div.sk-estimator:hover {background-color: #d4ebff;}#sk-container-id-6 div.sk-parallel-item::after {content: \"\";width: 100%;border-bottom: 1px solid gray;flex-grow: 1;}#sk-container-id-6 div.sk-label:hover label.sk-toggleable__label {background-color: #d4ebff;}#sk-container-id-6 div.sk-serial::before {content: \"\";position: absolute;border-left: 1px solid gray;box-sizing: border-box;top: 0;bottom: 0;left: 50%;z-index: 0;}#sk-container-id-6 div.sk-serial {display: flex;flex-direction: column;align-items: center;background-color: white;padding-right: 0.2em;padding-left: 0.2em;position: relative;}#sk-container-id-6 div.sk-item {position: relative;z-index: 1;}#sk-container-id-6 div.sk-parallel {display: flex;align-items: stretch;justify-content: center;background-color: white;position: relative;}#sk-container-id-6 div.sk-item::before, #sk-container-id-6 div.sk-parallel-item::before {content: \"\";position: absolute;border-left: 1px solid gray;box-sizing: border-box;top: 0;bottom: 0;left: 50%;z-index: -1;}#sk-container-id-6 div.sk-parallel-item {display: flex;flex-direction: column;z-index: 1;position: relative;background-color: white;}#sk-container-id-6 div.sk-parallel-item:first-child::after {align-self: flex-end;width: 50%;}#sk-container-id-6 div.sk-parallel-item:last-child::after {align-self: flex-start;width: 50%;}#sk-container-id-6 div.sk-parallel-item:only-child::after {width: 0;}#sk-container-id-6 div.sk-dashed-wrapped {border: 1px dashed gray;margin: 0 0.4em 0.5em 0.4em;box-sizing: border-box;padding-bottom: 0.4em;background-color: white;}#sk-container-id-6 div.sk-label label {font-family: monospace;font-weight: bold;display: inline-block;line-height: 1.2em;}#sk-container-id-6 div.sk-label-container {text-align: center;}#sk-container-id-6 div.sk-container {/* jupyter's `normalize.less` sets `[hidden] { display: none; }` but bootstrap.min.css set `[hidden] { display: none !important; }` so we also need the `!important` here to be able to override the default hidden behavior on the sphinx rendered scikit-learn.org. See: https://github.com/scikit-learn/scikit-learn/issues/21755 */display: inline-block !important;position: relative;}#sk-container-id-6 div.sk-text-repr-fallback {display: none;}</style><div id=\"sk-container-id-6\" class=\"sk-top-container\"><div class=\"sk-text-repr-fallback\"><pre>LinearRegression()</pre><b>In a Jupyter environment, please rerun this cell to show the HTML representation or trust the notebook. <br />On GitHub, the HTML representation is unable to render, please try loading this page with nbviewer.org.</b></div><div class=\"sk-container\" hidden><div class=\"sk-item\"><div class=\"sk-estimator sk-toggleable\"><input class=\"sk-toggleable__control sk-hidden--visually\" id=\"sk-estimator-id-6\" type=\"checkbox\" checked><label for=\"sk-estimator-id-6\" class=\"sk-toggleable__label sk-toggleable__label-arrow\">LinearRegression</label><div class=\"sk-toggleable__content\"><pre>LinearRegression()</pre></div></div></div></div></div>"
      ],
      "text/plain": [
       "LinearRegression()"
      ]
     },
     "execution_count": 217,
     "metadata": {},
     "output_type": "execute_result"
    }
   ],
   "source": [
    "regressor.fit(X_train,y_train)"
   ]
  },
  {
   "cell_type": "code",
   "execution_count": 218,
   "id": "e80bba5b-df3d-49f7-8c88-0c5343ea7119",
   "metadata": {},
   "outputs": [
    {
     "data": {
      "text/plain": [
       "65.95"
      ]
     },
     "execution_count": 218,
     "metadata": {},
     "output_type": "execute_result"
    }
   ],
   "source": [
    "regressor.intercept_"
   ]
  },
  {
   "cell_type": "code",
   "execution_count": 219,
   "id": "1b518b73-4d21-4377-a7d8-7f8c012cf89f",
   "metadata": {},
   "outputs": [
    {
     "data": {
      "text/plain": [
       "array([-2.90566344])"
      ]
     },
     "execution_count": 219,
     "metadata": {},
     "output_type": "execute_result"
    }
   ],
   "source": [
    "regressor.coef_"
   ]
  },
  {
   "cell_type": "code",
   "execution_count": 220,
   "id": "cbb1efcd-40c0-4c05-8a84-3f2b214addc9",
   "metadata": {},
   "outputs": [
    {
     "data": {
      "text/plain": [
       "[<matplotlib.lines.Line2D at 0x1fa06fb9610>]"
      ]
     },
     "execution_count": 220,
     "metadata": {},
     "output_type": "execute_result"
    },
    {
     "data": {
      "image/png": "[encoded data removed]",
      "text/plain": [
       "<Figure size 640x480 with 1 Axes>"
      ]
     },
     "metadata": {},
     "output_type": "display_data"
    }
   ],
   "source": [
    "plt.plot(X_train,regressor.predict(X_train),'r')"
   ]
  },
  {
   "cell_type": "markdown",
   "id": "c617bece-ec4c-47ef-a5e0-314b2689c2db",
   "metadata": {},
   "source": [
    "### prediction of train data\n",
    "1. predicted height output =intercept + coef_(Weights)\n",
    "2. y_pred_train  = 69.83 + 0.079(X_train)\n",
    "\n",
    "### predictionof test data\n",
    "1. predicted height output =intercept + coef_(Weights)\n",
    "2. y_pred_test  = 69.83 + 0.079(X_test)"
   ]
  },
  {
   "cell_type": "code",
   "execution_count": 221,
   "id": "065b20a7-0c3b-44c9-ac60-15bbb34c45fe",
   "metadata": {},
   "outputs": [],
   "source": [
    "y_pred_test = regressor.predict(X_test)"
   ]
  },
  {
   "cell_type": "code",
   "execution_count": 222,
   "id": "bc93859b-6c99-4f5f-a161-a7437b211f1b",
   "metadata": {},
   "outputs": [
    {
     "data": {
      "text/plain": [
       "array([64.69001791, 63.25003837, 64.53002018, 69.96994286, 63.09004065,\n",
       "       64.85001563, 67.24998152, 66.28999517, 67.24998152, 65.96999972,\n",
       "       70.44993604])"
      ]
     },
     "execution_count": 222,
     "metadata": {},
     "output_type": "execute_result"
    }
   ],
   "source": [
    "y_pred_test"
   ]
  },
  {
   "cell_type": "markdown",
   "id": "c6612d6b-c5db-436a-a591-a7db205316eb",
   "metadata": {},
   "source": [
    "#### Performance Metrics - MAE,MSE,RMSE"
   ]
  },
  {
   "cell_type": "code",
   "execution_count": 223,
   "id": "0618dbb1-e00e-436c-bf54-8c1039edb5fb",
   "metadata": {},
   "outputs": [],
   "source": [
    "from sklearn.metrics import mean_squared_error,mean_absolute_error"
   ]
  },
  {
   "cell_type": "code",
   "execution_count": 224,
   "id": "3f5229cb-6c19-4a90-be64-318f4332c718",
   "metadata": {},
   "outputs": [],
   "source": [
    "mse = mean_squared_error(y_test,y_pred_test)\n",
    "mae = mean_absolute_error(y_test,y_pred_test)\n",
    "rmse = np.sqrt(mse)"
   ]
  },
  {
   "cell_type": "code",
   "execution_count": 225,
   "id": "e729d525-c0bd-47fa-9b2b-3c887aaf833c",
   "metadata": {},
   "outputs": [
    {
     "data": {
      "text/plain": [
       "(19.57313956218097, 3.1427458526748824, 4.424154106965643)"
      ]
     },
     "execution_count": 225,
     "metadata": {},
     "output_type": "execute_result"
    }
   ],
   "source": [
    "mse,mae,rmse"
   ]
  },
  {
   "cell_type": "code",
   "execution_count": 226,
   "id": "e712dbc1-1ade-4cfd-9948-2f020a5033b2",
   "metadata": {},
   "outputs": [],
   "source": [
    "from sklearn.metrics import r2_score\n"
   ]
  },
  {
   "cell_type": "code",
   "execution_count": 227,
   "id": "231b83d2-9d82-4a09-8ad0-811caa2c68b5",
   "metadata": {},
   "outputs": [
    {
     "data": {
      "text/plain": [
       "-136.89694502493288"
      ]
     },
     "execution_count": 227,
     "metadata": {},
     "output_type": "execute_result"
    }
   ],
   "source": [
    "score = r2_score(y_test,X_test)\n",
    "score"
   ]
  },
  {
   "cell_type": "code",
   "execution_count": null,
   "id": "7332eb62-2dfa-421d-a6ec-85826fa6b48f",
   "metadata": {},
   "outputs": [],
   "source": []
  }
 ],
 "metadata": {
  "kernelspec": {
   "display_name": "Python 3 (ipykernel)",
   "language": "python",
   "name": "python3"
  },
  "language_info": {
   "codemirror_mode": {
    "name": "ipython",
    "version": 3
   },
   "file_extension": ".py",
   "mimetype": "text/x-python",
   "name": "python",
   "nbconvert_exporter": "python",
   "pygments_lexer": "ipython3",
   "version": "3.11.5"
  }
 },
 "nbformat": 4,
 "nbformat_minor": 5
}
