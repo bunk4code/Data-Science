{
 "cells": [
  {
   "cell_type": "markdown",
   "id": "e3b5390e-2b5b-4d04-8c3b-d3c4d2e5c857",
   "metadata": {},
   "source": [
    "# Target Guided Ordinal Encoded\n",
    "#### Target-guided ordinal encoding is a technique used to encode categorical variables for machine learning models. This encoding technique is particularly useful when the target variable is ordinal, meaning that it has a natural order, such as low, medium, and high."
   ]
  },
  {
   "cell_type": "code",
   "execution_count": 1,
   "id": "9ed9076c-25aa-4bec-b8dc-1467311bb8cd",
   "metadata": {},
   "outputs": [],
   "source": [
    "import pandas as pd"
   ]
  },
  {
   "cell_type": "code",
   "execution_count": 7,
   "id": "252a25f0-83c5-419d-b27e-74a1e1894109",
   "metadata": {},
   "outputs": [],
   "source": [
    "data = pd.DataFrame({\n",
    "    'Qualification' : ['Phd.','Bsc','BCA','BTech','Bsc','Phd.'],\n",
    "    'Salary' : [5000,2000,3000,3400,3000,5000]\n",
    "})"
   ]
  },
  {
   "cell_type": "code",
   "execution_count": 16,
   "id": "c76ad1d6-4f8a-4fbf-a0db-18d6b3327cd4",
   "metadata": {},
   "outputs": [],
   "source": [
    "salary_mean=data.groupby('Qualification')['Salary'].mean().to_dict()"
   ]
  },
  {
   "cell_type": "code",
   "execution_count": 21,
   "id": "42ea4056-ebdf-445b-91cb-4191c924ea81",
   "metadata": {},
   "outputs": [],
   "source": [
    "data[\"Rank\"] = data['Qualification'].map(salary_mean)"
   ]
  },
  {
   "cell_type": "code",
   "execution_count": 22,
   "id": "e2707b79-5093-4fe4-9706-5d6886498fe1",
   "metadata": {},
   "outputs": [
    {
     "data": {
      "text/html": [
       "<div>\n",
       "<style scoped>\n",
       "    .dataframe tbody tr th:only-of-type {\n",
       "        vertical-align: middle;\n",
       "    }\n",
       "\n",
       "    .dataframe tbody tr th {\n",
       "        vertical-align: top;\n",
       "    }\n",
       "\n",
       "    .dataframe thead th {\n",
       "        text-align: right;\n",
       "    }\n",
       "</style>\n",
       "<table border=\"1\" class=\"dataframe\">\n",
       "  <thead>\n",
       "    <tr style=\"text-align: right;\">\n",
       "      <th></th>\n",
       "      <th>Qualification</th>\n",
       "      <th>Salary</th>\n",
       "      <th>Rank</th>\n",
       "    </tr>\n",
       "  </thead>\n",
       "  <tbody>\n",
       "    <tr>\n",
       "      <th>0</th>\n",
       "      <td>Phd.</td>\n",
       "      <td>5000</td>\n",
       "      <td>5000.0</td>\n",
       "    </tr>\n",
       "    <tr>\n",
       "      <th>1</th>\n",
       "      <td>Bsc</td>\n",
       "      <td>2000</td>\n",
       "      <td>2500.0</td>\n",
       "    </tr>\n",
       "    <tr>\n",
       "      <th>2</th>\n",
       "      <td>BCA</td>\n",
       "      <td>3000</td>\n",
       "      <td>3000.0</td>\n",
       "    </tr>\n",
       "    <tr>\n",
       "      <th>3</th>\n",
       "      <td>BTech</td>\n",
       "      <td>3400</td>\n",
       "      <td>3400.0</td>\n",
       "    </tr>\n",
       "    <tr>\n",
       "      <th>4</th>\n",
       "      <td>Bsc</td>\n",
       "      <td>3000</td>\n",
       "      <td>2500.0</td>\n",
       "    </tr>\n",
       "    <tr>\n",
       "      <th>5</th>\n",
       "      <td>Phd.</td>\n",
       "      <td>5000</td>\n",
       "      <td>5000.0</td>\n",
       "    </tr>\n",
       "  </tbody>\n",
       "</table>\n",
       "</div>"
      ],
      "text/plain": [
       "  Qualification  Salary    Rank\n",
       "0          Phd.    5000  5000.0\n",
       "1           Bsc    2000  2500.0\n",
       "2           BCA    3000  3000.0\n",
       "3         BTech    3400  3400.0\n",
       "4           Bsc    3000  2500.0\n",
       "5          Phd.    5000  5000.0"
      ]
     },
     "execution_count": 22,
     "metadata": {},
     "output_type": "execute_result"
    }
   ],
   "source": [
    "data"
   ]
  },
  {
   "cell_type": "code",
   "execution_count": null,
   "id": "5d26b50f-f37d-400f-a2f0-66533615e242",
   "metadata": {},
   "outputs": [],
   "source": []
  }
 ],
 "metadata": {
  "kernelspec": {
   "display_name": "Python 3 (ipykernel)",
   "language": "python",
   "name": "python3"
  },
  "language_info": {
   "codemirror_mode": {
    "name": "ipython",
    "version": 3
   },
   "file_extension": ".py",
   "mimetype": "text/x-python",
   "name": "python",
   "nbconvert_exporter": "python",
   "pygments_lexer": "ipython3",
   "version": "3.11.5"
  }
 },
 "nbformat": 4,
 "nbformat_minor": 5
}
